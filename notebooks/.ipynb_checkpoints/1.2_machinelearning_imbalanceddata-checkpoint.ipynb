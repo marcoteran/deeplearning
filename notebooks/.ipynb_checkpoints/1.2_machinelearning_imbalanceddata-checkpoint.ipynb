{
 "cells": [
  {
   "cell_type": "markdown",
   "metadata": {},
   "source": [
    "<table align=\"left\">\n",
    "  <td>\n",
    "    <a href=\"https://colab.research.google.com/github/marcoteran/deeplearning/blob/master/notebooks/1.1_machinelearning_deeplearninglandscape.ipynb\" target=\"_parent\"><img src=\"https://colab.research.google.com/assets/colab-badge.svg\" alt=\"Abrir en Colab\" title=\"Abrir y ejecutar en Google Colaboratory\"/></a>\n",
    "  </td>\n",
    "  <td>\n",
    "    <a target=\"_blank\" href=\"https://kaggle.com/kernels/welcome?src=https://github.com/marcoteran/deeplearning/blob/master/notebooks/1.1_machinelearning_deeplearninglandscape.ipynb\"><img src=\"https://kaggle.com/static/images/open-in-kaggle.svg\" alt=\"Abrir en Kaggle\" title=\"Abrir y ejecutar en Kaggle\"/></a>\n",
    "  </td>\n",
    "</table>"
   ]
  },
  {
   "cell_type": "markdown",
   "metadata": {},
   "source": [
    "### Ejemplo de código\n",
    "# Sesión 02: Manejo de clases desbalanceadas con la librería Python ImbLearn\n",
    "## Deep Learning y series de tiempo"
   ]
  },
  {
   "cell_type": "markdown",
   "metadata": {},
   "source": [
    "**Name:** Marco Teran\n",
    "**E-mail:** marco.teran@usa.edu.co\n",
    "\n",
    "[Website](http://marcoteran.github.io/),\n",
    "[Github](https://github.com/marcoteran),\n",
    "[LinkedIn](https://www.linkedin.com/in/marcoteran/).\n",
    "___"
   ]
  },
  {
   "cell_type": "markdown",
   "metadata": {},
   "source": [
    "## Carcaterísticas del Dataset: Credit Card Fraud Detection"
   ]
  },
  {
   "cell_type": "markdown",
   "metadata": {},
   "source": [
    "En este ejercicio, se utilizará Python y el conjunto de datos [Credit Card Fraud Detection de Kaggle](https://www.kaggle.com/datasets/mlg-ulb/creditcardfraud):\n",
    "* Este conjunto de datos tiene un tamaño de 66 MB y se expande a 150 MB después de descomprimirlo\n",
    "* El archivo creditcard.csv consta de 285,000 filas y 31 columnas (características)\n",
    "* Excepto por las columnas Time y Amount (el importe de la transacción), la información de las características es privada y se nombran como V1, V2, V3, etc\n",
    "* Las clases están etiquetadas como 0 y 1, correspondiendo a \"transacción normal\" o \"fraude\"\n",
    "Debido a la desigualdad del conjunto de datos, hay muy pocas muestras etiquetadas como fraude. El enfoque se centra en aplicar diversas estrategias para mejorar los resultados, en lugar de elegir el modelo y ajustarlo en exceso."
   ]
  },
  {
   "cell_type": "markdown",
   "metadata": {},
   "source": [
    "Se dará prioridad a aplicar diversas estrategias para mejorar los resultados a pesar del desequilibrio de clases, en lugar de enfocarse en la elección y configuración del modelo."
   ]
  },
  {
   "cell_type": "markdown",
   "metadata": {},
   "source": [
    "#### Requerimientos técnicos\n",
    "- Se necesitará Python 3.6 en el sistema, y se recomienda tener instalada la plataforma Anaconda para trabajar en una Notebook Jupyter\n",
    "- Es necesario instalar la librería **Imbalanced Learn**"
   ]
  },
  {
   "cell_type": "markdown",
   "metadata": {},
   "source": [
    "Instalación de la librería:"
   ]
  },
  {
   "cell_type": "code",
   "execution_count": 5,
   "metadata": {},
   "outputs": [
    {
     "name": "stdout",
     "output_type": "stream",
     "text": [
      "Requirement already satisfied: imbalanced-learn in c:\\python310\\lib\\site-packages (0.10.1)\n",
      "Requirement already satisfied: scipy>=1.3.2 in c:\\python310\\lib\\site-packages (from imbalanced-learn) (1.9.3)\n",
      "Requirement already satisfied: threadpoolctl>=2.0.0 in c:\\python310\\lib\\site-packages (from imbalanced-learn) (3.1.0)\n",
      "Requirement already satisfied: numpy>=1.17.3 in c:\\python310\\lib\\site-packages (from imbalanced-learn) (1.24.0)\n",
      "Requirement already satisfied: scikit-learn>=1.0.2 in c:\\python310\\lib\\site-packages (from imbalanced-learn) (1.2.1)\n",
      "Requirement already satisfied: joblib>=1.1.1 in c:\\python310\\lib\\site-packages (from imbalanced-learn) (1.2.0)\n"
     ]
    },
    {
     "name": "stderr",
     "output_type": "stream",
     "text": [
      "\n",
      "[notice] A new release of pip available: 22.3.1 -> 23.0.1\n",
      "[notice] To update, run: python.exe -m pip install --upgrade pip\n"
     ]
    }
   ],
   "source": [
    "!pip install -U imbalanced-learn\n",
    "# conda install -c conda-forge imbalanced-learn"
   ]
  },
  {
   "cell_type": "code",
   "execution_count": 4,
   "metadata": {
    "ExecuteTime": {
     "end_time": "2019-05-14T23:03:49.648431Z",
     "start_time": "2019-05-14T23:03:42.916007Z"
    },
    "scrolled": true
   },
   "outputs": [],
   "source": [
    "import pandas as pd\n",
    "import numpy as np\n",
    "import matplotlib.pyplot as plt\n",
    "import seaborn as sns\n",
    "\n",
    "from sklearn.metrics import confusion_matrix\n",
    "from sklearn.metrics import classification_report\n",
    "from sklearn.model_selection import train_test_split\n",
    "from sklearn.linear_model import LogisticRegression\n",
    "from sklearn.decomposition import PCA\n",
    "from sklearn.tree import DecisionTreeClassifier\n",
    "\n",
    "from pylab import rcParams\n",
    "\n",
    "from imblearn import under_sampling, over_sampling\n",
    "from imblearn.over_sampling import SMOTE\n",
    "from imblearn.under_sampling import NearMiss\n",
    "from imblearn.over_sampling import RandomOverSampler\n",
    "from imblearn.combine import SMOTETomek\n",
    "from imblearn.ensemble import BalancedBaggingClassifier\n",
    "\n",
    "from collections import Counter\n",
    "\n",
    "#set up graphic style in this case I am using the color scheme from xkcd.com\n",
    "rcParams['figure.figsize'] = 14, 8.7 # Golden Mean\n",
    "LABELS = [\"Normal\",\"Fraud\"]\n",
    "#col_list = [\"cerulean\",\"scarlet\"]# https://xkcd.com/color/rgb/\n",
    "#sns.set(style='white', font_scale=1.75, palette=sns.xkcd_palette(col_list))\n",
    "\n",
    "%matplotlib inline"
   ]
  },
  {
   "cell_type": "markdown",
   "metadata": {},
   "source": [
    "# Analisis exploratorio de los datos\n",
    "\n",
    "Se debe realizar un análisis exploratorio para comprobar si hay desequilibrio entre las clases."
   ]
  },
  {
   "cell_type": "markdown",
   "metadata": {},
   "source": [
    "### Descargar los datos\n",
    "Descarga de Kaggle en https://www.kaggle.com/mlg-ulb/creditcardfraud/data"
   ]
  },
  {
   "cell_type": "code",
   "execution_count": 6,
   "metadata": {},
   "outputs": [],
   "source": [
    "from pathlib import Path\n",
    "import pandas as pd\n",
    "import urllib.request\n",
    "import zipfile\n",
    "\n",
    "def load_creditcard_data():\n",
    "    zip_file_path = Path(\"data/archive.zip\")\n",
    "    if not zip_file_path.is_file():\n",
    "        Path(\"data\").mkdir(parents=True, exist_ok=True)\n",
    "        url = \"https://github.com/marcoteran/deeplearning/raw/master/data/archive.zip\"\n",
    "        urllib.request.urlretrieve(url, zip_file_path)\n",
    "    with zipfile.ZipFile(zip_file_path) as zip_file:\n",
    "        zip_file.extract(\"creditcard.csv\", path=\"data\")\n",
    "    return pd.read_csv(Path(\"data/creditcard.csv\"))"
   ]
  },
  {
   "cell_type": "markdown",
   "metadata": {},
   "source": [
    "Después de importar las librerías necesarias, se carga el dataframe con pandas y se observan las primeras filas."
   ]
  },
  {
   "cell_type": "code",
   "execution_count": 7,
   "metadata": {
    "ExecuteTime": {
     "end_time": "2019-05-14T23:03:55.243246Z",
     "start_time": "2019-05-14T23:03:49.651846Z"
    },
    "scrolled": true
   },
   "outputs": [
    {
     "data": {
      "text/html": [
       "<div>\n",
       "<style scoped>\n",
       "    .dataframe tbody tr th:only-of-type {\n",
       "        vertical-align: middle;\n",
       "    }\n",
       "\n",
       "    .dataframe tbody tr th {\n",
       "        vertical-align: top;\n",
       "    }\n",
       "\n",
       "    .dataframe thead th {\n",
       "        text-align: right;\n",
       "    }\n",
       "</style>\n",
       "<table border=\"1\" class=\"dataframe\">\n",
       "  <thead>\n",
       "    <tr style=\"text-align: right;\">\n",
       "      <th></th>\n",
       "      <th>Time</th>\n",
       "      <th>V1</th>\n",
       "      <th>V2</th>\n",
       "      <th>V3</th>\n",
       "      <th>V4</th>\n",
       "      <th>V5</th>\n",
       "      <th>V6</th>\n",
       "      <th>V7</th>\n",
       "      <th>V8</th>\n",
       "      <th>V9</th>\n",
       "      <th>...</th>\n",
       "      <th>V21</th>\n",
       "      <th>V22</th>\n",
       "      <th>V23</th>\n",
       "      <th>V24</th>\n",
       "      <th>V25</th>\n",
       "      <th>V26</th>\n",
       "      <th>V27</th>\n",
       "      <th>V28</th>\n",
       "      <th>Amount</th>\n",
       "      <th>Class</th>\n",
       "    </tr>\n",
       "  </thead>\n",
       "  <tbody>\n",
       "    <tr>\n",
       "      <th>0</th>\n",
       "      <td>0.0</td>\n",
       "      <td>-1.359807</td>\n",
       "      <td>-0.072781</td>\n",
       "      <td>2.536347</td>\n",
       "      <td>1.378155</td>\n",
       "      <td>-0.338321</td>\n",
       "      <td>0.462388</td>\n",
       "      <td>0.239599</td>\n",
       "      <td>0.098698</td>\n",
       "      <td>0.363787</td>\n",
       "      <td>...</td>\n",
       "      <td>-0.018307</td>\n",
       "      <td>0.277838</td>\n",
       "      <td>-0.110474</td>\n",
       "      <td>0.066928</td>\n",
       "      <td>0.128539</td>\n",
       "      <td>-0.189115</td>\n",
       "      <td>0.133558</td>\n",
       "      <td>-0.021053</td>\n",
       "      <td>149.62</td>\n",
       "      <td>0</td>\n",
       "    </tr>\n",
       "    <tr>\n",
       "      <th>1</th>\n",
       "      <td>0.0</td>\n",
       "      <td>1.191857</td>\n",
       "      <td>0.266151</td>\n",
       "      <td>0.166480</td>\n",
       "      <td>0.448154</td>\n",
       "      <td>0.060018</td>\n",
       "      <td>-0.082361</td>\n",
       "      <td>-0.078803</td>\n",
       "      <td>0.085102</td>\n",
       "      <td>-0.255425</td>\n",
       "      <td>...</td>\n",
       "      <td>-0.225775</td>\n",
       "      <td>-0.638672</td>\n",
       "      <td>0.101288</td>\n",
       "      <td>-0.339846</td>\n",
       "      <td>0.167170</td>\n",
       "      <td>0.125895</td>\n",
       "      <td>-0.008983</td>\n",
       "      <td>0.014724</td>\n",
       "      <td>2.69</td>\n",
       "      <td>0</td>\n",
       "    </tr>\n",
       "    <tr>\n",
       "      <th>2</th>\n",
       "      <td>1.0</td>\n",
       "      <td>-1.358354</td>\n",
       "      <td>-1.340163</td>\n",
       "      <td>1.773209</td>\n",
       "      <td>0.379780</td>\n",
       "      <td>-0.503198</td>\n",
       "      <td>1.800499</td>\n",
       "      <td>0.791461</td>\n",
       "      <td>0.247676</td>\n",
       "      <td>-1.514654</td>\n",
       "      <td>...</td>\n",
       "      <td>0.247998</td>\n",
       "      <td>0.771679</td>\n",
       "      <td>0.909412</td>\n",
       "      <td>-0.689281</td>\n",
       "      <td>-0.327642</td>\n",
       "      <td>-0.139097</td>\n",
       "      <td>-0.055353</td>\n",
       "      <td>-0.059752</td>\n",
       "      <td>378.66</td>\n",
       "      <td>0</td>\n",
       "    </tr>\n",
       "    <tr>\n",
       "      <th>3</th>\n",
       "      <td>1.0</td>\n",
       "      <td>-0.966272</td>\n",
       "      <td>-0.185226</td>\n",
       "      <td>1.792993</td>\n",
       "      <td>-0.863291</td>\n",
       "      <td>-0.010309</td>\n",
       "      <td>1.247203</td>\n",
       "      <td>0.237609</td>\n",
       "      <td>0.377436</td>\n",
       "      <td>-1.387024</td>\n",
       "      <td>...</td>\n",
       "      <td>-0.108300</td>\n",
       "      <td>0.005274</td>\n",
       "      <td>-0.190321</td>\n",
       "      <td>-1.175575</td>\n",
       "      <td>0.647376</td>\n",
       "      <td>-0.221929</td>\n",
       "      <td>0.062723</td>\n",
       "      <td>0.061458</td>\n",
       "      <td>123.50</td>\n",
       "      <td>0</td>\n",
       "    </tr>\n",
       "    <tr>\n",
       "      <th>4</th>\n",
       "      <td>2.0</td>\n",
       "      <td>-1.158233</td>\n",
       "      <td>0.877737</td>\n",
       "      <td>1.548718</td>\n",
       "      <td>0.403034</td>\n",
       "      <td>-0.407193</td>\n",
       "      <td>0.095921</td>\n",
       "      <td>0.592941</td>\n",
       "      <td>-0.270533</td>\n",
       "      <td>0.817739</td>\n",
       "      <td>...</td>\n",
       "      <td>-0.009431</td>\n",
       "      <td>0.798278</td>\n",
       "      <td>-0.137458</td>\n",
       "      <td>0.141267</td>\n",
       "      <td>-0.206010</td>\n",
       "      <td>0.502292</td>\n",
       "      <td>0.219422</td>\n",
       "      <td>0.215153</td>\n",
       "      <td>69.99</td>\n",
       "      <td>0</td>\n",
       "    </tr>\n",
       "  </tbody>\n",
       "</table>\n",
       "<p>5 rows × 31 columns</p>\n",
       "</div>"
      ],
      "text/plain": [
       "   Time        V1        V2        V3        V4        V5        V6        V7  \\\n",
       "0   0.0 -1.359807 -0.072781  2.536347  1.378155 -0.338321  0.462388  0.239599   \n",
       "1   0.0  1.191857  0.266151  0.166480  0.448154  0.060018 -0.082361 -0.078803   \n",
       "2   1.0 -1.358354 -1.340163  1.773209  0.379780 -0.503198  1.800499  0.791461   \n",
       "3   1.0 -0.966272 -0.185226  1.792993 -0.863291 -0.010309  1.247203  0.237609   \n",
       "4   2.0 -1.158233  0.877737  1.548718  0.403034 -0.407193  0.095921  0.592941   \n",
       "\n",
       "         V8        V9  ...       V21       V22       V23       V24       V25  \\\n",
       "0  0.098698  0.363787  ... -0.018307  0.277838 -0.110474  0.066928  0.128539   \n",
       "1  0.085102 -0.255425  ... -0.225775 -0.638672  0.101288 -0.339846  0.167170   \n",
       "2  0.247676 -1.514654  ...  0.247998  0.771679  0.909412 -0.689281 -0.327642   \n",
       "3  0.377436 -1.387024  ... -0.108300  0.005274 -0.190321 -1.175575  0.647376   \n",
       "4 -0.270533  0.817739  ... -0.009431  0.798278 -0.137458  0.141267 -0.206010   \n",
       "\n",
       "        V26       V27       V28  Amount  Class  \n",
       "0 -0.189115  0.133558 -0.021053  149.62      0  \n",
       "1  0.125895 -0.008983  0.014724    2.69      0  \n",
       "2 -0.139097 -0.055353 -0.059752  378.66      0  \n",
       "3 -0.221929  0.062723  0.061458  123.50      0  \n",
       "4  0.502292  0.219422  0.215153   69.99      0  \n",
       "\n",
       "[5 rows x 31 columns]"
      ]
     },
     "execution_count": 7,
     "metadata": {},
     "output_type": "execute_result"
    }
   ],
   "source": [
    "df = load_creditcard_data() # read in data downloaded to the local directory\n",
    "df.head(n=5) #just to check you imported the dataset properly4"
   ]
  },
  {
   "cell_type": "markdown",
   "metadata": {},
   "source": [
    "Es importante verificar la cantidad de filas del dataframe y la cantidad de filas de cada clase."
   ]
  },
  {
   "cell_type": "code",
   "execution_count": 8,
   "metadata": {
    "ExecuteTime": {
     "end_time": "2019-05-14T23:03:55.257536Z",
     "start_time": "2019-05-14T23:03:55.246529Z"
    }
   },
   "outputs": [
    {
     "data": {
      "text/plain": [
       "(284807, 31)"
      ]
     },
     "execution_count": 8,
     "metadata": {},
     "output_type": "execute_result"
    }
   ],
   "source": [
    "df.shape # Comprobación secundaria del tamaño del dataframe"
   ]
  },
  {
   "cell_type": "code",
   "execution_count": 9,
   "metadata": {
    "ExecuteTime": {
     "end_time": "2019-05-14T23:03:55.282798Z",
     "start_time": "2019-05-14T23:03:55.260837Z"
    }
   },
   "outputs": [
    {
     "data": {
      "text/plain": [
       "0    284315\n",
       "1       492\n",
       "Name: Class, dtype: int64"
      ]
     },
     "execution_count": 9,
     "metadata": {},
     "output_type": "execute_result"
    }
   ],
   "source": [
    "pd.value_counts(df['Class'], sort = True) #class comparison 0=Normal 1=Fraud"
   ]
  },
  {
   "cell_type": "markdown",
   "metadata": {},
   "source": [
    "En este caso, el dataframe consta de 284,807 filas y sólo 492 filas pertenecen a la clase minoritaria de casos de fraude, lo que representa el 0.17% de las muestras."
   ]
  },
  {
   "cell_type": "code",
   "execution_count": 11,
   "metadata": {
    "ExecuteTime": {
     "end_time": "2019-05-14T23:03:55.493706Z",
     "start_time": "2019-05-14T23:03:55.286436Z"
    }
   },
   "outputs": [
    {
     "data": {
      "image/png": "[encoded data removed]",
      "text/plain": [
       "<Figure size 432x288 with 1 Axes>"
      ]
     },
     "metadata": {
      "needs_background": "light"
     },
     "output_type": "display_data"
    }
   ],
   "source": [
    "# Si no tienes una idea intuitiva de lo desequilibradas que están estas dos clases, vamos a lo visual\n",
    "count_classes = pd.value_counts(df['Class'], sort = True)\n",
    "count_classes.plot(kind = 'bar', rot=0)\n",
    "plt.xticks(range(2), LABELS)\n",
    "plt.title(\"Frecuencia por número de observación\")\n",
    "plt.xlabel(\"Clase\")\n",
    "plt.ylabel(\"Número de observaciones\");"
   ]
  },
  {
   "cell_type": "markdown",
   "metadata": {},
   "source": [
    "Es necesario tener en cuenta que la línea roja que representa los casos de fraude es mínima debido a que son muy pocas muestras."
   ]
  },
  {
   "cell_type": "code",
   "execution_count": 12,
   "metadata": {
    "ExecuteTime": {
     "end_time": "2019-05-14T23:03:55.580502Z",
     "start_time": "2019-05-14T23:03:55.497973Z"
    }
   },
   "outputs": [],
   "source": [
    "normal_df = df[df.Class == 0] # guardar las observaciones de normal_df en un df separado\n",
    "fraud_df = df[df.Class == 1]  # hacer lo mismo con los fraudes"
   ]
  },
  {
   "cell_type": "code",
   "execution_count": 15,
   "metadata": {
    "ExecuteTime": {
     "end_time": "2019-05-14T23:03:56.104227Z",
     "start_time": "2019-05-14T23:03:55.583067Z"
    }
   },
   "outputs": [
    {
     "name": "stderr",
     "output_type": "stream",
     "text": [
      "<ipython-input-15-5b09d8a40ebf>:3: MatplotlibDeprecationWarning: \n",
      "The 'normed' kwarg was deprecated in Matplotlib 2.1 and will be removed in 3.1. Use 'density' instead.\n",
      "  plt.hist(normal_df.Amount, bins, alpha=1, normed=True, label='Normal')\n",
      "<ipython-input-15-5b09d8a40ebf>:4: MatplotlibDeprecationWarning: \n",
      "The 'normed' kwarg was deprecated in Matplotlib 2.1 and will be removed in 3.1. Use 'density' instead.\n",
      "  plt.hist(fraud_df.Amount, bins, alpha=0.6, normed=True, label='Fraud')\n"
     ]
    },
    {
     "data": {
      "image/png": "[encoded data removed]",
      "text/plain": [
       "<Figure size 432x288 with 1 Axes>"
      ]
     },
     "metadata": {
      "needs_background": "light"
     },
     "output_type": "display_data"
    }
   ],
   "source": [
    "# Trama de transacciones de alto valor\n",
    "bins = np.linspace(200, 2500, 100)\n",
    "plt.hist(normal_df.Amount, bins, alpha=1, normed=True, label='Normal')\n",
    "plt.hist(fraud_df.Amount, bins, alpha=0.6, normed=True, label='Fraud')\n",
    "plt.legend(loc='upper right')\n",
    "plt.title(\"Cantidad por porcentaje de transacciones (transacciones superiores a \\$200+)\")\n",
    "plt.xlabel(\"Cantidad de las transacciones (USD)\")\n",
    "plt.ylabel(\"Porcentaje de transacciones (%)\");\n",
    "plt.show()"
   ]
  },
  {
   "cell_type": "code",
   "execution_count": 17,
   "metadata": {
    "ExecuteTime": {
     "end_time": "2019-05-14T23:03:56.417389Z",
     "start_time": "2019-05-14T23:03:56.107770Z"
    }
   },
   "outputs": [
    {
     "name": "stderr",
     "output_type": "stream",
     "text": [
      "<ipython-input-17-6a574aa338b2>:2: MatplotlibDeprecationWarning: \n",
      "The 'normed' kwarg was deprecated in Matplotlib 2.1 and will be removed in 3.1. Use 'density' instead.\n",
      "  plt.hist((normal_df.Time/(60*60)), bins, alpha=1, normed=True, label='Normal')\n",
      "<ipython-input-17-6a574aa338b2>:3: MatplotlibDeprecationWarning: \n",
      "The 'normed' kwarg was deprecated in Matplotlib 2.1 and will be removed in 3.1. Use 'density' instead.\n",
      "  plt.hist((fraud_df.Time/(60*60)), bins, alpha=0.6, normed=True, label='Fraud')\n"
     ]
    },
    {
     "data": {
      "image/png": "[encoded data removed]",
      "text/plain": [
       "<Figure size 432x288 with 1 Axes>"
      ]
     },
     "metadata": {
      "needs_background": "light"
     },
     "output_type": "display_data"
    }
   ],
   "source": [
    "bins = np.linspace(0, 48, 48) #48 hours\n",
    "plt.hist((normal_df.Time/(60*60)), bins, alpha=1, normed=True, label='Normal')\n",
    "plt.hist((fraud_df.Time/(60*60)), bins, alpha=0.6, normed=True, label='Fraud')\n",
    "plt.legend(loc='upper right')\n",
    "plt.title(\"Porcentaje de transacciones por hora\")\n",
    "plt.xlabel(\"Tiempo de transacción medido desde la primera transacción del conjunto de datos (horas)\")\n",
    "plt.ylabel(\"Porcentaje de transacciones (%)\");\n",
    "#plt.hist((df.Time/(60*60)),bins)\n",
    "plt.show()"
   ]
  },
  {
   "cell_type": "code",
   "execution_count": 18,
   "metadata": {
    "ExecuteTime": {
     "end_time": "2019-05-14T23:03:58.767541Z",
     "start_time": "2019-05-14T23:03:56.421091Z"
    }
   },
   "outputs": [
    {
     "data": {
      "image/png": "[encoded data removed]",
      "text/plain": [
       "<Figure size 432x288 with 1 Axes>"
      ]
     },
     "metadata": {
      "needs_background": "light"
     },
     "output_type": "display_data"
    }
   ],
   "source": [
    "plt.scatter((normal_df.Time/(60*60)), normal_df.Amount, alpha=0.6, label='Normal')\n",
    "plt.scatter((fraud_df.Time/(60*60)), fraud_df.Amount, alpha=0.9, label='Fraud')\n",
    "plt.title(\"Cantidad de la transacción por hora\")\n",
    "plt.xlabel(\"Tiempo de transacción medido desde la primera transacción del conjunto de datos (horas)\")\n",
    "plt.ylabel(\"Cantidad (USD)\")\n",
    "plt.legend(loc='upper right')\n",
    "plt.show()"
   ]
  },
  {
   "cell_type": "markdown",
   "metadata": {},
   "source": [
    "Separamos los datos de entrenamiento de las etiquetas:"
   ]
  },
  {
   "cell_type": "code",
   "execution_count": 20,
   "metadata": {
    "ExecuteTime": {
     "end_time": "2019-05-14T23:03:58.950975Z",
     "start_time": "2019-05-14T23:03:58.771245Z"
    }
   },
   "outputs": [],
   "source": [
    "y = df['Class']\n",
    "X = df.drop('Class', axis=1)\n",
    "X_train, X_test, y_train, y_test = train_test_split(X, y, train_size=0.7)"
   ]
  },
  {
   "cell_type": "markdown",
   "metadata": {},
   "source": [
    "A continuación reduciremos un conjunto de datos a 2 dimensiones para poder visualizarlos. Utilizaremos técnicas de reducción de dimensionalidad para lograr este objetivo y luego representaremos los datos en un gráfico de dispersión bidimensional. Esto nos permitirá tener una mejor comprensión de la estructura de los datos y de las relaciones entre las variables"
   ]
  },
  {
   "cell_type": "code",
   "execution_count": 21,
   "metadata": {
    "ExecuteTime": {
     "end_time": "2019-05-15T18:39:31.113587Z",
     "start_time": "2019-05-15T18:39:21.051870Z"
    }
   },
   "outputs": [
    {
     "name": "stderr",
     "output_type": "stream",
     "text": [
      "C:\\ProgramData\\Anaconda3\\lib\\site-packages\\seaborn\\_decorators.py:36: FutureWarning: Pass the following variable as a keyword arg: x. From version 0.12, the only valid positional argument will be `data`, and passing other arguments without an explicit keyword will result in an error or misinterpretation.\n",
      "  warnings.warn(\n"
     ]
    },
    {
     "data": {
      "text/plain": [
       "Text(0.5, 1.0, 'Número de observaciones por clase')"
      ]
     },
     "execution_count": 21,
     "metadata": {},
     "output_type": "execute_result"
    },
    {
     "data": {
      "image/png": "[encoded data removed]",
      "text/plain": [
       "<Figure size 1080x360 with 2 Axes>"
      ]
     },
     "metadata": {
      "needs_background": "light"
     },
     "output_type": "display_data"
    }
   ],
   "source": [
    "# Reducir el conjunto de datos a 2 dimensiones para visualizarlos\n",
    "pca = PCA(n_components=2)\n",
    "pca.fit(X)\n",
    "X_reduced = pca.transform(X)\n",
    "\n",
    "fig, ax = plt.subplots(1, 2, figsize= (15,5))\n",
    "\n",
    "ax[0].scatter(X_reduced[y == 0, 0], X_reduced[y == 0, 1], label=\"Normal\", alpha=0.2)\n",
    "ax[0].scatter(X_reduced[y == 1, 0], X_reduced[y == 1, 1], label=\"Fraude\", alpha=0.2)\n",
    "ax[0].set_title('PCA del conjunto de datos original')\n",
    "ax[0].legend()\n",
    "\n",
    "ax[1] = sns.countplot(y)\n",
    "ax[1].set_title('Número de observaciones por clase')"
   ]
  },
  {
   "cell_type": "markdown",
   "metadata": {},
   "source": [
    "### Creación del módelo\n",
    "Se representa una función llamada `run_model` que implementa un modelo de **regresión logística** utilizando la biblioteca Scikit-learn en Python.\n",
    "* La regresión logística es un tipo de algoritmo de aprendizaje supervisado que se utiliza comúnmente para la clasificación de datos.\n",
    "* El modelo utiliza una función ***sigmoide*** para asignar una probabilidad a cada clase y se entrena mediante la maximización de la función de verosimilitud.\n",
    "\n",
    "Se utilizan los siguientes parámetros para ajustar el modelo:\n",
    "- `C=1.0`, `penalty='l2'`, `random_state=1` y `solver=\"newton-cg\"`.\n",
    "\n",
    "El parámetro **C** controla la fuerza de regularización del modelo, mientras que **penalty** especifica el tipo de regularización a aplicar, y **solver** especifica el algoritmo de optimización utilizado para ajustar el modelo."
   ]
  },
  {
   "cell_type": "code",
   "execution_count": 24,
   "metadata": {
    "ExecuteTime": {
     "end_time": "2019-05-14T23:04:05.444946Z",
     "start_time": "2019-05-14T23:04:05.440299Z"
    }
   },
   "outputs": [],
   "source": [
    "def run_model(X_train, X_test, y_train, y_test):\n",
    "    clf_base = LogisticRegression(C=1.0,penalty='l2',random_state=1,solver=\"newton-cg\")\n",
    "    clf_base.fit(X_train, y_train)\n",
    "    return clf_base"
   ]
  },
  {
   "cell_type": "markdown",
   "metadata": {},
   "source": [
    "# Modelo sin balancear"
   ]
  },
  {
   "cell_type": "markdown",
   "metadata": {},
   "source": [
    "Entrenamos el modelo aún sin balancear las clases:"
   ]
  },
  {
   "cell_type": "code",
   "execution_count": 25,
   "metadata": {
    "ExecuteTime": {
     "end_time": "2019-05-14T23:04:20.885597Z",
     "start_time": "2019-05-14T23:04:05.448189Z"
    }
   },
   "outputs": [
    {
     "name": "stderr",
     "output_type": "stream",
     "text": [
      "C:\\ProgramData\\Anaconda3\\lib\\site-packages\\sklearn\\utils\\optimize.py:202: ConvergenceWarning: newton-cg failed to converge. Increase the number of iterations.\n",
      "  warnings.warn(\"newton-cg failed to converge. Increase the \"\n"
     ]
    }
   ],
   "source": [
    "model = run_model(X_train, X_test, y_train, y_test)"
   ]
  },
  {
   "cell_type": "markdown",
   "metadata": {},
   "source": [
    "A continuación, se define una función que muestra la matriz de confusión y un informe de clasificación:\n",
    "- La matriz de confusión es una herramienta común para evaluar el rendimiento de un modelo de clasificación\n",
    "- El informe de clasificación proporciona métricas adicionales, como la precisión, la exhaustividad y la puntuación F1, para evaluar el rendimiento del modelo."
   ]
  },
  {
   "cell_type": "code",
   "execution_count": 26,
   "metadata": {
    "ExecuteTime": {
     "end_time": "2019-05-14T23:04:20.895907Z",
     "start_time": "2019-05-14T23:04:20.888843Z"
    }
   },
   "outputs": [],
   "source": [
    "def mostrar_resultados(y_test, pred_y):\n",
    "    conf_matrix = confusion_matrix(y_test, pred_y)\n",
    "    plt.figure(figsize=(8, 8))\n",
    "    sns.heatmap(conf_matrix, xticklabels=LABELS, yticklabels=LABELS, annot=True, fmt=\"d\");\n",
    "    plt.title(\"Matriz de confusión\")\n",
    "    plt.ylabel('Clase verdadera')\n",
    "    plt.xlabel('Clase prevista')\n",
    "    plt.show()\n",
    "    print (classification_report(y_test, pred_y))"
   ]
  },
  {
   "cell_type": "code",
   "execution_count": 27,
   "metadata": {
    "ExecuteTime": {
     "end_time": "2019-05-14T23:04:21.356620Z",
     "start_time": "2019-05-14T23:04:20.900093Z"
    }
   },
   "outputs": [
    {
     "data": {
      "image/png": "[encoded data removed]",
      "text/plain": [
       "<Figure size 576x576 with 2 Axes>"
      ]
     },
     "metadata": {
      "needs_background": "light"
     },
     "output_type": "display_data"
    },
    {
     "name": "stdout",
     "output_type": "stream",
     "text": [
      "              precision    recall  f1-score   support\n",
      "\n",
      "           0       1.00      1.00      1.00     85303\n",
      "           1       0.89      0.59      0.71       140\n",
      "\n",
      "    accuracy                           1.00     85443\n",
      "   macro avg       0.95      0.80      0.86     85443\n",
      "weighted avg       1.00      1.00      1.00     85443\n",
      "\n"
     ]
    }
   ],
   "source": [
    "pred_y = model.predict(X_test)\n",
    "mostrar_resultados(y_test, pred_y)"
   ]
  },
  {
   "cell_type": "markdown",
   "metadata": {},
   "source": [
    "Se presenta la matriz de confusión, y en particular se enfoca en la clase 2, que es la que se quiere detectar. Se observan 51 falsos negativos y 97 verdaderos positivos, lo que resulta en un recall de 0.66, un valor que se desea mejorar. Aunque los resultados de la columna de f1-score son buenos, no deben ser engañosos, ya que reflejan una realidad parcial. Es importante destacar que el modelo no es capaz de detectar correctamente los casos de fraude."
   ]
  },
  {
   "cell_type": "markdown",
   "metadata": {},
   "source": [
    "# Estrategias para el tratamiento de datos desbalanceados"
   ]
  },
  {
   "cell_type": "markdown",
   "metadata": {},
   "source": [
    "##  1. Estrategia: Penalización para compensar"
   ]
  },
  {
   "cell_type": "markdown",
   "metadata": {},
   "source": [
    "En el proceso de construcción del modelo de Regresión logística, se incorporará un parámetro adicional denominado `weight = balanced`. Esto permitirá que el algoritmo equilibre la clase minoritaria durante el entrenamiento.\n",
    "* Al establecer el parámetro **weight** en ***balanced***, el modelo asigna pesos diferentes a cada clase durante el entrenamiento para equilibrar la clase minoritaria\n",
    "* Se asignan pesos inversamente proporcionales a la frecuencia de las clases en los datos de entrenamiento.\n",
    "Esto significa que las observaciones de la clase minoritaria tendrán un **peso mayor** que las observaciones de la clase mayoritaria durante el entrenamiento, lo que permite que el modelo preste más atención a la clase minoritaria y reduzca el sesgo hacia la clase mayoritaria."
   ]
  },
  {
   "cell_type": "code",
   "execution_count": 28,
   "metadata": {
    "ExecuteTime": {
     "end_time": "2019-05-14T23:04:42.322624Z",
     "start_time": "2019-05-14T23:04:21.359881Z"
    }
   },
   "outputs": [
    {
     "name": "stderr",
     "output_type": "stream",
     "text": [
      "C:\\ProgramData\\Anaconda3\\lib\\site-packages\\sklearn\\utils\\optimize.py:202: ConvergenceWarning: newton-cg failed to converge. Increase the number of iterations.\n",
      "  warnings.warn(\"newton-cg failed to converge. Increase the \"\n"
     ]
    }
   ],
   "source": [
    "def run_model_balanced(X_train, X_test, y_train, y_test):\n",
    "    clf = LogisticRegression(C=1.0,penalty='l2', random_state=1, solver=\"newton-cg\", class_weight=\"balanced\")\n",
    "    clf.fit(X_train, y_train)\n",
    "    return clf"
   ]
  },
  {
   "cell_type": "markdown",
   "metadata": {},
   "source": [
    "Corremos el modelo luego de aplicar la estrategia"
   ]
  },
  {
   "cell_type": "code",
   "execution_count": 37,
   "metadata": {},
   "outputs": [
    {
     "name": "stderr",
     "output_type": "stream",
     "text": [
      "C:\\ProgramData\\Anaconda3\\lib\\site-packages\\sklearn\\utils\\optimize.py:202: ConvergenceWarning: newton-cg failed to converge. Increase the number of iterations.\n",
      "  warnings.warn(\"newton-cg failed to converge. Increase the \"\n"
     ]
    }
   ],
   "source": [
    "model = run_model_balanced(X_train, X_test, y_train, y_test)"
   ]
  },
  {
   "cell_type": "markdown",
   "metadata": {},
   "source": [
    "Validamos los resultados"
   ]
  },
  {
   "cell_type": "code",
   "execution_count": 29,
   "metadata": {
    "ExecuteTime": {
     "end_time": "2019-05-14T23:04:42.757817Z",
     "start_time": "2019-05-14T23:04:42.325881Z"
    }
   },
   "outputs": [
    {
     "data": {
      "image/png": "[encoded data removed]",
      "text/plain": [
       "<Figure size 576x576 with 2 Axes>"
      ]
     },
     "metadata": {
      "needs_background": "light"
     },
     "output_type": "display_data"
    },
    {
     "name": "stdout",
     "output_type": "stream",
     "text": [
      "              precision    recall  f1-score   support\n",
      "\n",
      "           0       1.00      0.98      0.99     85303\n",
      "           1       0.07      0.88      0.13       140\n",
      "\n",
      "    accuracy                           0.98     85443\n",
      "   macro avg       0.53      0.93      0.56     85443\n",
      "weighted avg       1.00      0.98      0.99     85443\n",
      "\n"
     ]
    }
   ],
   "source": [
    "pred_y = model.predict(X_test)\n",
    "mostrar_resultados(y_test, pred_y)"
   ]
  },
  {
   "cell_type": "markdown",
   "metadata": {},
   "source": [
    "Al incorporar esta modificación, se ha obtenido una significativa mejora en la detección de casos fraudulentos, específicamente en la clase 2, que representa si hubo fraude. Se han acertado 137 muestras y se han fallado en 11, obteniendo un recall de 0.93. Se destaca que la inclusión de este parámetro no ha afectado negativamente el f1-score, sino que en realidad ha mejorado la capacidad del modelo para detectar casos de fraude. Es importante tener en cuenta que al aumentar los falsos positivos, se etiquetarán más muestras como fraudulentas cuando en realidad no lo son, pero esto es preferible a fallar en detectar los casos reales de fraude."
   ]
  },
  {
   "cell_type": "markdown",
   "metadata": {},
   "source": [
    "##  2. Estrategia: Subsampling en la clase mayoritaria\n",
    "\n",
    "Por otro lado, se utilizará un algoritmo para reducir la clase mayoritaria. Este algoritmo se asemeja al **k-nearest neighbor** y permite seleccionar cuáles muestras eliminar. En este caso, se ha reducido significativamente de 199.020 a solo 688 muestras de la clase cero (la mayoría), con las cuales se entrenará el modelo.\n",
    "* NearMiss es un algoritmo de submuestreo utilizado para abordar el problema de desequilibrio de clases en los conjuntos de datos de entrenamiento.\n",
    "* Se basa en la idea de seleccionar las instancias de la clase mayoritaria que están más cercanas a las instancias de la clase minoritaria y eliminarlas para equilibrar las clases.\n",
    "* Hay tres versiones diferentes de NearMiss:\n",
    "    - **NearMiss-1** selecciona las instancias de la clase mayoritaria más cercanas al centro de la clase minoritaria\n",
    "    - **NearMiss-2** selecciona las instancias de la clase mayoritaria más lejanas a la clase minoritaria\n",
    "    - **NearMiss-3** selecciona las instancias de la clase mayoritaria que tienen la menor distancia media a sus k instancias más cercanas de la clase minoritaria.\n",
    "\n",
    "`sampling_strategy` se refiere a la proporción de instancias de la clase mayoritaria que se mantendrán después del submuestreo en relación con el número de instancias de la clase minoritaria."
   ]
  },
  {
   "cell_type": "code",
   "execution_count": 35,
   "metadata": {
    "ExecuteTime": {
     "end_time": "2019-05-14T23:04:53.621130Z",
     "start_time": "2019-05-14T23:04:42.761449Z"
    }
   },
   "outputs": [
    {
     "name": "stdout",
     "output_type": "stream",
     "text": [
      "Distribución de las etiquetas de clase antes del resampling Counter({0: 199012, 1: 352})\n",
      "Distribución de las etiquetas de clase despues del  resampling Counter({0: 704, 1: 352})\n"
     ]
    }
   ],
   "source": [
    "us = NearMiss(sampling_strategy=0.5, n_neighbors=3, version=2)\n",
    "X_train_res, y_train_res = us.fit_sample(X_train, y_train)\n",
    "\n",
    "print (\"Distribución de las etiquetas de clase antes del resampling {}\".format(Counter(y_train)))\n",
    "print (\"Distribución de las etiquetas de clase despues del  resampling {}\".format(Counter(y_train_res)))"
   ]
  },
  {
   "cell_type": "markdown",
   "metadata": {},
   "source": [
    "Corremos el modelo luego de aplicar la estrategia"
   ]
  },
  {
   "cell_type": "code",
   "execution_count": 36,
   "metadata": {
    "ExecuteTime": {
     "end_time": "2019-05-14T23:04:53.899048Z",
     "start_time": "2019-05-14T23:04:53.629703Z"
    },
    "scrolled": true
   },
   "outputs": [
    {
     "name": "stderr",
     "output_type": "stream",
     "text": [
      "C:\\ProgramData\\Anaconda3\\lib\\site-packages\\scipy\\optimize\\linesearch.py:478: LineSearchWarning: The line search algorithm did not converge\n",
      "  warn('The line search algorithm did not converge', LineSearchWarning)\n",
      "C:\\ProgramData\\Anaconda3\\lib\\site-packages\\scipy\\optimize\\linesearch.py:327: LineSearchWarning: The line search algorithm did not converge\n",
      "  warn('The line search algorithm did not converge', LineSearchWarning)\n",
      "C:\\ProgramData\\Anaconda3\\lib\\site-packages\\scipy\\optimize\\linesearch.py:478: LineSearchWarning: The line search algorithm did not converge\n",
      "  warn('The line search algorithm did not converge', LineSearchWarning)\n",
      "C:\\ProgramData\\Anaconda3\\lib\\site-packages\\scipy\\optimize\\linesearch.py:327: LineSearchWarning: The line search algorithm did not converge\n",
      "  warn('The line search algorithm did not converge', LineSearchWarning)\n",
      "C:\\ProgramData\\Anaconda3\\lib\\site-packages\\scipy\\optimize\\linesearch.py:478: LineSearchWarning: The line search algorithm did not converge\n",
      "  warn('The line search algorithm did not converge', LineSearchWarning)\n",
      "C:\\ProgramData\\Anaconda3\\lib\\site-packages\\scipy\\optimize\\linesearch.py:327: LineSearchWarning: The line search algorithm did not converge\n",
      "  warn('The line search algorithm did not converge', LineSearchWarning)\n",
      "C:\\ProgramData\\Anaconda3\\lib\\site-packages\\scipy\\optimize\\linesearch.py:478: LineSearchWarning: The line search algorithm did not converge\n",
      "  warn('The line search algorithm did not converge', LineSearchWarning)\n",
      "C:\\ProgramData\\Anaconda3\\lib\\site-packages\\scipy\\optimize\\linesearch.py:327: LineSearchWarning: The line search algorithm did not converge\n",
      "  warn('The line search algorithm did not converge', LineSearchWarning)\n",
      "C:\\ProgramData\\Anaconda3\\lib\\site-packages\\sklearn\\utils\\optimize.py:202: ConvergenceWarning: newton-cg failed to converge. Increase the number of iterations.\n",
      "  warnings.warn(\"newton-cg failed to converge. Increase the \"\n"
     ]
    }
   ],
   "source": [
    "model = run_model(X_train_res, X_test, y_train_res, y_test)"
   ]
  },
  {
   "cell_type": "markdown",
   "metadata": {},
   "source": [
    "Validamos los resultados"
   ]
  },
  {
   "cell_type": "code",
   "execution_count": 38,
   "metadata": {
    "ExecuteTime": {
     "end_time": "2019-05-14T23:04:54.359016Z",
     "start_time": "2019-05-14T23:04:53.902615Z"
    },
    "scrolled": true
   },
   "outputs": [
    {
     "data": {
      "image/png": "[encoded data removed]",
      "text/plain": [
       "<Figure size 576x576 with 2 Axes>"
      ]
     },
     "metadata": {
      "needs_background": "light"
     },
     "output_type": "display_data"
    },
    {
     "name": "stdout",
     "output_type": "stream",
     "text": [
      "              precision    recall  f1-score   support\n",
      "\n",
      "           0       1.00      0.98      0.99     85303\n",
      "           1       0.07      0.88      0.13       140\n",
      "\n",
      "    accuracy                           0.98     85443\n",
      "   macro avg       0.53      0.93      0.56     85443\n",
      "weighted avg       1.00      0.98      0.99     85443\n",
      "\n"
     ]
    }
   ],
   "source": [
    "pred_y = model.predict(X_test)\n",
    "mostrar_resultados(y_test, pred_y)"
   ]
  },
  {
   "cell_type": "markdown",
   "metadata": {},
   "source": [
    "Se obtiene un buen resultado con un recall de 0.93 aunque aumentaron los falsos positivos."
   ]
  },
  {
   "cell_type": "markdown",
   "metadata": {},
   "source": [
    "## 3. Estrategia: Random Oversampling de la clase minoritaria\n",
    "\n",
    "Se crean muestras sintéticas de la clase minoritaria utilizando `RandomOverSampler`. `RandomOverSampler` es una técnica de sobremuestreo para tratar el problema de desequilibrio de clases en los datos:\n",
    "* Duplica o triplica aleatoriamente las instancias de la clase minoritaria hasta que se equilibre con la clase mayoritaria.\n",
    "* Esto puede aumentar el riesgo de sobreajuste y generar datos sintéticos no realistas\n",
    "\n",
    "Los parámetros principales son:\n",
    "- \"sampling_strategy\", que determina la proporción deseada de instancias de la clase minoritaria\n",
    "- \"random_state\" para controlar la reproducibilidad\n",
    "- \"fit_resample\" para realizar el sobremuestreo y la adaptación del modelo en una sola llamada de función."
   ]
  },
  {
   "cell_type": "code",
   "execution_count": 40,
   "metadata": {
    "ExecuteTime": {
     "end_time": "2019-05-14T23:04:54.629840Z",
     "start_time": "2019-05-14T23:04:54.362403Z"
    }
   },
   "outputs": [
    {
     "name": "stdout",
     "output_type": "stream",
     "text": [
      "Distribution of class labels before resampling Counter({0: 199012, 1: 352})\n",
      "Distribution of class labels after resampling Counter({0: 199012, 1: 99506})\n"
     ]
    }
   ],
   "source": [
    "os =  RandomOverSampler(sampling_strategy=0.5)\n",
    "X_train_res, y_train_res = os.fit_sample(X_train, y_train)\n",
    "\n",
    "print (\"Distribution of class labels before resampling {}\".format(Counter(y_train)))\n",
    "print (\"Distribution of class labels after resampling {}\".format(Counter(y_train_res)))"
   ]
  },
  {
   "cell_type": "markdown",
   "metadata": {},
   "source": [
    "El número de muestras de fraude aumenta de 344 a 99.510."
   ]
  },
  {
   "cell_type": "markdown",
   "metadata": {},
   "source": [
    "Se corre nuevamente el modelo"
   ]
  },
  {
   "cell_type": "code",
   "execution_count": 41,
   "metadata": {
    "ExecuteTime": {
     "end_time": "2019-05-14T23:05:23.238880Z",
     "start_time": "2019-05-14T23:04:54.633097Z"
    }
   },
   "outputs": [
    {
     "name": "stderr",
     "output_type": "stream",
     "text": [
      "C:\\ProgramData\\Anaconda3\\lib\\site-packages\\scipy\\optimize\\linesearch.py:478: LineSearchWarning: The line search algorithm did not converge\n",
      "  warn('The line search algorithm did not converge', LineSearchWarning)\n",
      "C:\\ProgramData\\Anaconda3\\lib\\site-packages\\scipy\\optimize\\linesearch.py:327: LineSearchWarning: The line search algorithm did not converge\n",
      "  warn('The line search algorithm did not converge', LineSearchWarning)\n",
      "C:\\ProgramData\\Anaconda3\\lib\\site-packages\\sklearn\\utils\\optimize.py:202: ConvergenceWarning: newton-cg failed to converge. Increase the number of iterations.\n",
      "  warnings.warn(\"newton-cg failed to converge. Increase the \"\n"
     ]
    }
   ],
   "source": [
    "model = run_model(X_train_res, X_test, y_train_res, y_test)"
   ]
  },
  {
   "cell_type": "markdown",
   "metadata": {},
   "source": [
    "Se validan los resultados"
   ]
  },
  {
   "cell_type": "code",
   "execution_count": 42,
   "metadata": {
    "ExecuteTime": {
     "end_time": "2019-05-14T23:05:23.630293Z",
     "start_time": "2019-05-14T23:05:23.242376Z"
    }
   },
   "outputs": [
    {
     "data": {
      "image/png": "[encoded data removed]",
      "text/plain": [
       "<Figure size 576x576 with 2 Axes>"
      ]
     },
     "metadata": {
      "needs_background": "light"
     },
     "output_type": "display_data"
    },
    {
     "name": "stdout",
     "output_type": "stream",
     "text": [
      "              precision    recall  f1-score   support\n",
      "\n",
      "           0       1.00      0.99      0.99     85303\n",
      "           1       0.12      0.85      0.21       140\n",
      "\n",
      "    accuracy                           0.99     85443\n",
      "   macro avg       0.56      0.92      0.60     85443\n",
      "weighted avg       1.00      0.99      0.99     85443\n",
      "\n"
     ]
    }
   ],
   "source": [
    "pred_y = model.predict(X_test)\n",
    "mostrar_resultados(y_test, pred_y)"
   ]
  },
  {
   "cell_type": "markdown",
   "metadata": {},
   "source": [
    "Se alcanza un recall de 0.89 para la clase 2 y los falsos positivos son 838."
   ]
  },
  {
   "cell_type": "markdown",
   "metadata": {},
   "source": [
    "# Estrategia: Combinamos resampling con Smote-Tomek\n",
    "# 4 Combinando Smote tomek"
   ]
  },
  {
   "cell_type": "markdown",
   "metadata": {},
   "source": [
    "Se utiliza la técnica de aplicar simultáneamente un algoritmo de subsampling y otro de oversampling al dataset. Se aplica SMOTE para oversampling y Tomek para undersampling. La técnica busca puntos vecinos cercanos y agrega puntos en línea recta entre ellos para oversampling, y quita los de distinta clase que sean nearest neighbor y deja ver mejor el decisión boundary para undersampling."
   ]
  },
  {
   "cell_type": "code",
   "execution_count": 24,
   "metadata": {
    "ExecuteTime": {
     "end_time": "2019-05-14T23:05:31.787106Z",
     "start_time": "2019-05-14T23:05:23.633252Z"
    }
   },
   "outputs": [
    {
     "name": "stdout",
     "output_type": "stream",
     "text": [
      "Distribution of class labels before resampling Counter({0: 199020, 1: 344})\n",
      "Distribution of class labels after resampling Counter({0: 198194, 1: 98684})\n"
     ]
    }
   ],
   "source": [
    "os_us = SMOTETomek(ratio=0.5)\n",
    "X_train_res, y_train_res = os_us.fit_sample(X_train, y_train)\n",
    "\n",
    "print (\"Distribution of class labels before resampling {}\".format(Counter(y_train)))\n",
    "print (\"Distribution of class labels after resampling {}\".format(Counter(y_train_res)))"
   ]
  },
  {
   "cell_type": "code",
   "execution_count": 25,
   "metadata": {
    "ExecuteTime": {
     "end_time": "2019-05-14T23:06:00.657539Z",
     "start_time": "2019-05-14T23:05:31.790028Z"
    }
   },
   "outputs": [
    {
     "name": "stderr",
     "output_type": "stream",
     "text": [
      "/Users/jbagnato/anaconda3/envs/python36/lib/python3.6/site-packages/scipy/optimize/linesearch.py:461: LineSearchWarning: The line search algorithm did not converge\n",
      "  warn('The line search algorithm did not converge', LineSearchWarning)\n",
      "/Users/jbagnato/anaconda3/envs/python36/lib/python3.6/site-packages/scipy/optimize/linesearch.py:312: LineSearchWarning: The line search algorithm did not converge\n",
      "  warn('The line search algorithm did not converge', LineSearchWarning)\n",
      "/Users/jbagnato/anaconda3/envs/python36/lib/python3.6/site-packages/sklearn/utils/optimize.py:203: ConvergenceWarning: newton-cg failed to converge. Increase the number of iterations.\n",
      "  \"number of iterations.\", ConvergenceWarning)\n"
     ]
    }
   ],
   "source": [
    "model = run_model(X_train_res, X_test, y_train_res, y_test)"
   ]
  },
  {
   "cell_type": "code",
   "execution_count": 26,
   "metadata": {
    "ExecuteTime": {
     "end_time": "2019-05-14T23:06:01.062907Z",
     "start_time": "2019-05-14T23:06:00.661145Z"
    }
   },
   "outputs": [
    {
     "data": {
      "image/png": "[encoded data removed]",
      "text/plain": [
       "<Figure size 576x576 with 2 Axes>"
      ]
     },
     "metadata": {},
     "output_type": "display_data"
    },
    {
     "name": "stdout",
     "output_type": "stream",
     "text": [
      "              precision    recall  f1-score   support\n",
      "\n",
      "           0       1.00      1.00      1.00     85295\n",
      "           1       0.28      0.85      0.42       148\n",
      "\n",
      "    accuracy                           1.00     85443\n",
      "   macro avg       0.64      0.92      0.71     85443\n",
      "weighted avg       1.00      1.00      1.00     85443\n",
      "\n"
     ]
    }
   ],
   "source": [
    "pred_y = model.predict(X_test)\n",
    "mostrar_resultados(y_test, pred_y)"
   ]
  },
  {
   "cell_type": "markdown",
   "metadata": {},
   "source": [
    "Se obtiene un buen recall de 0.85 para la clase 2 y se observa que hay pocos falsos positivos de la clase 1, 325 de 85,295 muestras."
   ]
  },
  {
   "cell_type": "markdown",
   "metadata": {},
   "source": [
    "# Estrategia: Ensamble de Modelos con Balanceo\n",
    "# 5 Ensemble balanceado"
   ]
  },
  {
   "cell_type": "markdown",
   "metadata": {},
   "source": [
    "Para esta estrategia se utilizará un Clasificador de Ensamble que emplea Bagging y un modelo de DecisionTree."
   ]
  },
  {
   "cell_type": "code",
   "execution_count": 27,
   "metadata": {
    "ExecuteTime": {
     "end_time": "2019-05-14T23:06:03.825482Z",
     "start_time": "2019-05-14T23:06:01.066317Z"
    }
   },
   "outputs": [
    {
     "data": {
      "text/plain": [
       "BalancedBaggingClassifier(base_estimator=DecisionTreeClassifier(class_weight=None,\n",
       "                                                                criterion='gini',\n",
       "                                                                max_depth=None,\n",
       "                                                                max_features=None,\n",
       "                                                                max_leaf_nodes=None,\n",
       "                                                                min_impurity_decrease=0.0,\n",
       "                                                                min_impurity_split=None,\n",
       "                                                                min_samples_leaf=1,\n",
       "                                                                min_samples_split=2,\n",
       "                                                                min_weight_fraction_leaf=0.0,\n",
       "                                                                presort=False,\n",
       "                                                                random_state=None,\n",
       "                                                                splitter='best'),\n",
       "                          bootstrap=True, bootstrap_features=False,\n",
       "                          max_features=1.0, max_samples=1.0, n_estimators=10,\n",
       "                          n_jobs=1, oob_score=False, random_state=0, ratio=None,\n",
       "                          replacement=False, sampling_strategy='auto',\n",
       "                          verbose=0, warm_start=False)"
      ]
     },
     "execution_count": 27,
     "metadata": {},
     "output_type": "execute_result"
    }
   ],
   "source": [
    "#Create an object of the classifier.\n",
    "bbc = BalancedBaggingClassifier(base_estimator=DecisionTreeClassifier(),\n",
    "                                sampling_strategy='auto',\n",
    "                                replacement=False,\n",
    "                                random_state=0)\n",
    "\n",
    "#Train the classifier.\n",
    "bbc.fit(X_train, y_train)"
   ]
  },
  {
   "cell_type": "code",
   "execution_count": 28,
   "metadata": {
    "ExecuteTime": {
     "end_time": "2019-05-14T23:06:04.389730Z",
     "start_time": "2019-05-14T23:06:03.828249Z"
    }
   },
   "outputs": [
    {
     "data": {
      "image/png": "[encoded data removed]",
      "text/plain": [
       "<Figure size 576x576 with 2 Axes>"
      ]
     },
     "metadata": {},
     "output_type": "display_data"
    },
    {
     "name": "stdout",
     "output_type": "stream",
     "text": [
      "              precision    recall  f1-score   support\n",
      "\n",
      "           0       1.00      0.99      0.99     85295\n",
      "           1       0.09      0.88      0.17       148\n",
      "\n",
      "    accuracy                           0.99     85443\n",
      "   macro avg       0.55      0.93      0.58     85443\n",
      "weighted avg       1.00      0.99      0.99     85443\n",
      "\n"
     ]
    }
   ],
   "source": [
    "pred_y = bbc.predict(X_test)\n",
    "mostrar_resultados(y_test, pred_y)"
   ]
  },
  {
   "cell_type": "markdown",
   "metadata": {},
   "source": [
    "Se evaluará su rendimiento y se observa una mejora en comparación con el modelo inicial, con un recall de 0.88 para los casos de fraude."
   ]
  },
  {
   "cell_type": "markdown",
   "metadata": {},
   "source": [
    "# Resultados"
   ]
  },
  {
   "cell_type": "markdown",
   "metadata": {},
   "source": [
    "En cuanto a los resultados obtenidos, se presentan en una tabla ordenada de mejor a peor. "
   ]
  },
  {
   "cell_type": "code",
   "execution_count": 30,
   "metadata": {
    "ExecuteTime": {
     "end_time": "2019-05-14T23:10:42.373790Z",
     "start_time": "2019-05-14T23:10:42.356242Z"
    }
   },
   "outputs": [
    {
     "data": {
      "text/html": [
       "<div>\n",
       "<style scoped>\n",
       "    .dataframe tbody tr th:only-of-type {\n",
       "        vertical-align: middle;\n",
       "    }\n",
       "\n",
       "    .dataframe tbody tr th {\n",
       "        vertical-align: top;\n",
       "    }\n",
       "\n",
       "    .dataframe thead th {\n",
       "        text-align: right;\n",
       "    }\n",
       "</style>\n",
       "<table border=\"1\" class=\"dataframe\">\n",
       "  <thead>\n",
       "    <tr style=\"text-align: right;\">\n",
       "      <th></th>\n",
       "      <th>algorithm</th>\n",
       "      <th>precision</th>\n",
       "      <th>recall</th>\n",
       "      <th>overall</th>\n",
       "    </tr>\n",
       "  </thead>\n",
       "  <tbody>\n",
       "    <tr>\n",
       "      <th>1</th>\n",
       "      <td>Penalizacion</td>\n",
       "      <td>1.0</td>\n",
       "      <td>0.93</td>\n",
       "      <td>0.965</td>\n",
       "    </tr>\n",
       "    <tr>\n",
       "      <th>2</th>\n",
       "      <td>NearMiss Subsampling</td>\n",
       "      <td>1.0</td>\n",
       "      <td>0.93</td>\n",
       "      <td>0.965</td>\n",
       "    </tr>\n",
       "    <tr>\n",
       "      <th>3</th>\n",
       "      <td>Random Oversampling</td>\n",
       "      <td>1.0</td>\n",
       "      <td>0.89</td>\n",
       "      <td>0.945</td>\n",
       "    </tr>\n",
       "    <tr>\n",
       "      <th>5</th>\n",
       "      <td>Ensemble</td>\n",
       "      <td>1.0</td>\n",
       "      <td>0.88</td>\n",
       "      <td>0.940</td>\n",
       "    </tr>\n",
       "    <tr>\n",
       "      <th>4</th>\n",
       "      <td>Smote Tomek</td>\n",
       "      <td>1.0</td>\n",
       "      <td>0.85</td>\n",
       "      <td>0.925</td>\n",
       "    </tr>\n",
       "    <tr>\n",
       "      <th>0</th>\n",
       "      <td>Regresion Logística</td>\n",
       "      <td>1.0</td>\n",
       "      <td>0.66</td>\n",
       "      <td>0.830</td>\n",
       "    </tr>\n",
       "  </tbody>\n",
       "</table>\n",
       "</div>"
      ],
      "text/plain": [
       "              algorithm  precision  recall  overall\n",
       "1          Penalizacion        1.0    0.93    0.965\n",
       "2  NearMiss Subsampling        1.0    0.93    0.965\n",
       "3   Random Oversampling        1.0    0.89    0.945\n",
       "5              Ensemble        1.0    0.88    0.940\n",
       "4           Smote Tomek        1.0    0.85    0.925\n",
       "0   Regresion Logística        1.0    0.66    0.830"
      ]
     },
     "execution_count": 30,
     "metadata": {},
     "output_type": "execute_result"
    }
   ],
   "source": [
    "df = pd.DataFrame({'algorithm' : ['Regresion Logística', 'Penalizacion', 'NearMiss Subsampling', \n",
    "                                  'Random Oversampling', 'Smote Tomek', 'Ensemble'],\n",
    "                   'precision' : [1.0, 1.0, 1.0, 1.0, 1.0, 1.0],\n",
    "                   'recall' : [0.66, 0.93, 0.93, 0.89, 0.85, 0.88]})\n",
    "\n",
    "df['overall'] = df.apply(lambda row: (row.precision + row.recall)/2, axis=1)\n",
    "\n",
    "df = df.sort_values(['overall'], ascending=False)\n",
    "df"
   ]
  },
  {
   "cell_type": "markdown",
   "metadata": {},
   "source": [
    "En este caso, las estrategias de Penalización y Subsampling obtienen el mejor resultado, con un recall de 0.93 cada una. Sin embargo, es importante destacar que todas las técnicas aplicadas logran mejorar el modelo inicial de Regresión Logística, que solo alcanzaba un 0.66 de recall para la clase de Fraude. Cabe recordar que el conjunto de datos presenta un desbalanceo considerable entre las clases."
   ]
  },
  {
   "cell_type": "markdown",
   "metadata": {},
   "source": [
    "# SMOTE para Clasificación Desbalanceada con Python\n",
    "\n",
    "La clasificación desbalanceada implica desarrollar modelos predictivos en conjuntos de datos de clasificación que tienen un desequilibrio grave de clases. El desafío al trabajar con conjuntos de datos desbalanceados es que la mayoría de las técnicas de aprendizaje automático ignorarán, y por lo tanto tendrán un mal rendimiento en, la clase minoritaria, aunque típicamente es el rendimiento en la clase minoritaria el que es más importante.\n",
    "Un enfoque para abordar conjuntos de datos desbalanceados es sobremuestrear la clase minoritaria. El enfoque más simple implica duplicar ejemplos en la clase minoritaria, aunque estos ejemplos no agregan información nueva al modelo. En su lugar, se pueden sintetizar nuevos ejemplos a partir de los ejemplos existentes. Esto es un tipo de aumento de datos para la clase minoritaria y se conoce como la técnica de sobremuestreo minoritario sintético, o SMOTE por sus siglas en inglés.\n",
    "En este tutorial, descubrirá el SMOTE para el sobremuestreo de conjuntos de datos de clasificación desbalanceados.\n",
    "\n",
    "Después de completar este tutorial, sabrá:\n",
    "* Cómo el SMOTE sintetiza nuevos ejemplos para la clase minoritaria.\n",
    "* Cómo ajustar y evaluar correctamente modelos de aprendizaje automático en conjuntos de datos de entrenamiento transformados por SMOTE.\n",
    "* Cómo utilizar extensiones del SMOTE que generan ejemplos sintéticos a lo largo del límite de decisión de clase."
   ]
  },
  {
   "cell_type": "markdown",
   "metadata": {},
   "source": [
    "## Intuición para Datos Desbalanceados\n",
    "En esta lección, se descubrirá cómo desarrollar una intuición práctica para conjuntos de datos de clasificación desbalanceados.\n",
    "\n",
    "Un desafío para los principiantes que trabajan con problemas de clasificación desbalanceados es comprender lo que significa una distribución de clases sesgada específica. Por ejemplo, ¿cuál es la diferencia y la implicación de una proporción de clase de 1:10 frente a una de 1:100?\n",
    "\n",
    "La función make_classification() de scikit-learn se puede utilizar para definir un conjunto de datos sintético con un desequilibrio de clases deseado. El argumento \"weights\" especifica la proporción de ejemplos en la clase negativa, por ejemplo, [0,99, 0,01] significa que el 99 por ciento de los ejemplos pertenecerán a la clase mayoritaria, y el 1 por ciento restante pertenecerá a la clase minoritaria."
   ]
  },
  {
   "cell_type": "code",
   "execution_count": 6,
   "metadata": {},
   "outputs": [],
   "source": [
    "from matplotlib import pyplot\n",
    "import matplotlib.pyplot as plt\n",
    "\n",
    "from sklearn.datasets import make_classification\n",
    "from sklearn.datasets import make_blobs\n",
    "from sklearn.datasets import make_gaussian_quantiles\n",
    "\n",
    "# plot imbalanced classification problem\n",
    "from collections import Counter\n",
    "\n",
    "from numpy import where"
   ]
  },
  {
   "cell_type": "code",
   "execution_count": 4,
   "metadata": {},
   "outputs": [],
   "source": [
    "# define dataset\n",
    "X, y = make_classification(n_samples=1000, n_features=2, n_redundant=0, n_clusters_per_class=1, weights=[0.99], flip_y=0)"
   ]
  },
  {
   "cell_type": "markdown",
   "metadata": {},
   "source": [
    "Una vez definida, podemos resumir la distribución de clases utilizando un objeto Counter para hacernos una idea de cuántos ejemplos pertenecen exactamente a cada clase."
   ]
  },
  {
   "cell_type": "code",
   "execution_count": 7,
   "metadata": {},
   "outputs": [
    {
     "name": "stdout",
     "output_type": "stream",
     "text": [
      "Counter({0: 990, 1: 10})\n"
     ]
    }
   ],
   "source": [
    "# summarize class distribution\n",
    "counter = Counter(y)\n",
    "print(counter)"
   ]
  },
  {
   "cell_type": "markdown",
   "metadata": {},
   "source": [
    "También podemos crear un gráfico de dispersión del conjunto de datos porque sólo hay dos variables de entrada. Los puntos pueden ser coloreados por cada clase. Este gráfico proporciona una intuición visual de cómo es exactamente en la práctica un desequilibrio de clases mayoritarias/minoritarias del 99% frente al 1%.\n",
    "\n",
    "A continuación se muestra el ejemplo completo de creación y resumen de un conjunto de datos de clasificación desequilibrada."
   ]
  },
  {
   "cell_type": "code",
   "execution_count": 10,
   "metadata": {},
   "outputs": [
    {
     "data": {
      "image/png": "[encoded data removed]",
      "text/plain": [
       "<Figure size 432x288 with 1 Axes>"
      ]
     },
     "metadata": {
      "needs_background": "light"
     },
     "output_type": "display_data"
    }
   ],
   "source": [
    "# scatter plot of examples by class label\n",
    "for label, _ in counter.items():\n",
    "    row_ix = where(y == label)[0]\n",
    "    pyplot.scatter(X[row_ix, 0], X[row_ix, 1], label=str(label))\n",
    "pyplot.legend()\n",
    "pyplot.show()"
   ]
  },
  {
   "cell_type": "markdown",
   "metadata": {},
   "source": [
    "# Evaluate Imbalanced Classification Models\n",
    "En esta lección, se descubrirá cómo evaluar modelos en problemas de clasificación desequilibrados.\n",
    "\n",
    "La exactitud de la predicción es la métrica más común para tareas de clasificación, aunque es inapropiada y potencialmente peligrosamente engañosa cuando se usa en tareas de clasificación desequilibradas.\n",
    "\n",
    "La razón de esto es que si el 98 por ciento de los datos pertenece a la clase negativa, se puede lograr una precisión del 98 por ciento en promedio simplemente prediciendo la clase negativa todo el tiempo, lo que da una puntuación que aparentemente parece buena, pero en la práctica no tiene habilidad.\n",
    "\n",
    "En cambio, se deben adoptar métricas de rendimiento alternativas.\n",
    "\n",
    "Las alternativas populares son las puntuaciones de precisión y recall que permiten que se considere el rendimiento del modelo centrándose en la clase minoritaria, llamada la clase positiva.\n",
    "\n",
    "La precisión calcula la proporción del número de ejemplos positivos predichos correctamente dividido por el número total de ejemplos positivos que se predijeron. Maximizar la precisión minimizará los falsos positivos.\n",
    "\n",
    "Precisión = VerdaderosPositivos / (VerdaderosPositivos + FalsosPositivos)\n",
    "Recall predice la proporción del número total de ejemplos positivos predichos correctamente dividido por el número total de ejemplos positivos que podrían haberse predicho. Maximizar recall minimizará los falsos negativos.\n",
    "\n",
    "Recall = VerdaderosPositivos / (VerdaderosPositivos + FalsosNegativos)\n",
    "El rendimiento de un modelo se puede resumir mediante una única puntuación que promedia tanto la precisión como el recall, llamada F-Measure. Maximizar el F-Measure maximizará tanto la precisión como el recall al mismo tiempo.\n",
    "\n",
    "F-Measure = (2 * Precision * Recall) / (Precision + Recall)\n",
    "El ejemplo siguiente ajusta un modelo de regresión logística en un problema de clasificación desequilibrado y calcula la exactitud, que luego se puede comparar con la precisión, el recall y el F-Measure."
   ]
  },
  {
   "cell_type": "code",
   "execution_count": 11,
   "metadata": {},
   "outputs": [
    {
     "name": "stdout",
     "output_type": "stream",
     "text": [
      "Accuracy: 0.989\n",
      "Precision: 0.250\n",
      "Recall: 0.040\n",
      "F-measure: 0.069\n"
     ]
    }
   ],
   "source": [
    "# evaluate imbalanced classification model with different metrics\n",
    "from sklearn.datasets import make_classification\n",
    "from sklearn.model_selection import train_test_split\n",
    "from sklearn.linear_model import LogisticRegression\n",
    "from sklearn.metrics import accuracy_score\n",
    "from sklearn.metrics import precision_score\n",
    "from sklearn.metrics import recall_score\n",
    "from sklearn.metrics import f1_score\n",
    "# generate dataset\n",
    "X, y = make_classification(n_samples=10000, n_features=2, n_redundant=0, n_clusters_per_class=1, weights=[0.99], flip_y=0)\n",
    "# split into train/test sets with same class ratio\n",
    "trainX, testX, trainy, testy = train_test_split(X, y, test_size=0.5, stratify=y)\n",
    "# define model\n",
    "model = LogisticRegression(solver='liblinear')\n",
    "# fit model\n",
    "model.fit(trainX, trainy)\n",
    "# predict on test set\n",
    "yhat = model.predict(testX)\n",
    "# evaluate predictions\n",
    "print('Accuracy: %.3f' % accuracy_score(testy, yhat))\n",
    "print('Precision: %.3f' % precision_score(testy, yhat))\n",
    "print('Recall: %.3f' % recall_score(testy, yhat))\n",
    "print('F-measure: %.3f' % f1_score(testy, yhat))"
   ]
  },
  {
   "cell_type": "markdown",
   "metadata": {},
   "source": [
    "# Submuestreo de la clase mayoritaria\n",
    "En esta lección, descubrirás cómo hacer submuestreo de la clase mayoritaria en el conjunto de datos de entrenamiento.\n",
    "Un enfoque simple para utilizar algoritmos de aprendizaje automático estándar en un conjunto de datos desequilibrado es cambiar el conjunto de datos de entrenamiento para que tenga una distribución de clases más equilibrada.\n",
    "Esto se puede lograr eliminando ejemplos de la clase mayoritaria, conocido como \"submuestreo\". Una posible desventaja es que se pueden eliminar ejemplos de la clase mayoritaria que son útiles durante la modelización.\n",
    "La biblioteca imbalanced-learn proporciona muchos ejemplos de algoritmos de submuestreo. Esta biblioteca se puede instalar fácilmente usando pip; por ejemplo:"
   ]
  },
  {
   "cell_type": "code",
   "execution_count": 12,
   "metadata": {},
   "outputs": [
    {
     "name": "stdout",
     "output_type": "stream",
     "text": [
      "Collecting imbalanced-learn\n",
      "  Downloading imbalanced_learn-0.10.1-py3-none-any.whl (226 kB)\n",
      "     ------------------------------------- 226.0/226.0 kB 13.5 MB/s eta 0:00:00\n",
      "Requirement already satisfied: numpy>=1.17.3 in c:\\programdata\\anaconda3\\lib\\site-packages (from imbalanced-learn) (1.20.1)\n",
      "Collecting joblib>=1.1.1\n",
      "  Downloading joblib-1.2.0-py3-none-any.whl (297 kB)\n",
      "     ------------------------------------- 298.0/298.0 kB 18.0 MB/s eta 0:00:00\n",
      "Requirement already satisfied: threadpoolctl>=2.0.0 in c:\\programdata\\anaconda3\\lib\\site-packages (from imbalanced-learn) (2.1.0)\n",
      "Requirement already satisfied: scipy>=1.3.2 in c:\\programdata\\anaconda3\\lib\\site-packages (from imbalanced-learn) (1.6.2)\n",
      "Collecting scikit-learn>=1.0.2\n",
      "  Downloading scikit_learn-1.2.1-cp38-cp38-win_amd64.whl (8.3 MB)\n",
      "     ---------------------------------------- 8.3/8.3 MB 24.0 MB/s eta 0:00:00\n",
      "Installing collected packages: joblib, scikit-learn, imbalanced-learn\n",
      "  Attempting uninstall: joblib\n",
      "    Found existing installation: joblib 1.0.1\n",
      "    Uninstalling joblib-1.0.1:\n",
      "Note: you may need to restart the kernel to use updated packages.\n"
     ]
    },
    {
     "name": "stderr",
     "output_type": "stream",
     "text": [
      "WARNING: Ignoring invalid distribution -atplotlib (c:\\programdata\\anaconda3\\lib\\site-packages)\n",
      "WARNING: Ignoring invalid distribution -atplotlib (c:\\programdata\\anaconda3\\lib\\site-packages)\n",
      "WARNING: Ignoring invalid distribution -atplotlib (c:\\programdata\\anaconda3\\lib\\site-packages)\n",
      "    WARNING: Ignoring invalid distribution -atplotlib (c:\\programdata\\anaconda3\\lib\\site-packages)\n",
      "ERROR: Could not install packages due to an OSError: [WinError 5] Access is denied: 'c:\\\\programdata\\\\anaconda3\\\\lib\\\\site-packages\\\\joblib-1.0.1.dist-info\\\\direct_url.json'\n",
      "Consider using the `--user` option or check the permissions.\n",
      "\n",
      "WARNING: Ignoring invalid distribution -atplotlib (c:\\programdata\\anaconda3\\lib\\site-packages)\n",
      "WARNING: Ignoring invalid distribution -atplotlib (c:\\programdata\\anaconda3\\lib\\site-packages)\n",
      "WARNING: Ignoring invalid distribution -atplotlib (c:\\programdata\\anaconda3\\lib\\site-packages)\n",
      "\n",
      "[notice] A new release of pip available: 22.3.1 -> 23.0.1\n",
      "[notice] To update, run: C:\\ProgramData\\Anaconda3\\python.exe -m pip install --upgrade pip\n"
     ]
    }
   ],
   "source": [
    "pip install imbalanced-learn"
   ]
  },
  {
   "cell_type": "code",
   "execution_count": 16,
   "metadata": {},
   "outputs": [
    {
     "name": "stdout",
     "output_type": "stream",
     "text": [
      "Collecting imbalanced-learn\n",
      "  Using cached imbalanced_learn-0.10.1-py3-none-any.whl (226 kB)\n",
      "Collecting joblib>=1.1.1\n",
      "  Using cached joblib-1.2.0-py3-none-any.whl (297 kB)\n",
      "Collecting scikit-learn>=1.0.2\n",
      "  Downloading scikit_learn-1.2.1-cp310-cp310-win_amd64.whl (8.3 MB)\n",
      "     ---------------------------------------- 8.3/8.3 MB 21.2 MB/s eta 0:00:00\n",
      "Collecting threadpoolctl>=2.0.0\n",
      "  Downloading threadpoolctl-3.1.0-py3-none-any.whl (14 kB)\n",
      "Requirement already satisfied: numpy>=1.17.3 in c:\\python310\\lib\\site-packages (from imbalanced-learn) (1.24.0)\n",
      "Requirement already satisfied: scipy>=1.3.2 in c:\\python310\\lib\\site-packages (from imbalanced-learn) (1.9.3)\n",
      "Installing collected packages: threadpoolctl, joblib, scikit-learn, imbalanced-learn\n",
      "Successfully installed imbalanced-learn-0.10.1 joblib-1.2.0 scikit-learn-1.2.1 threadpoolctl-3.1.0\n"
     ]
    },
    {
     "name": "stderr",
     "output_type": "stream",
     "text": [
      "\n",
      "[notice] A new release of pip available: 22.3.1 -> 23.0.1\n",
      "[notice] To update, run: python.exe -m pip install --upgrade pip\n"
     ]
    }
   ],
   "source": [
    "!pip install imbalanced-learn"
   ]
  },
  {
   "cell_type": "code",
   "execution_count": 17,
   "metadata": {},
   "outputs": [
    {
     "name": "stdout",
     "output_type": "stream",
     "text": [
      "Collecting package metadata (current_repodata.json): ...working... done\n",
      "Solving environment: ...working... done\n",
      "\n",
      "## Package Plan ##\n",
      "\n",
      "  environment location: C:\\ProgramData\\Anaconda3\n",
      "\n",
      "  added / updated specs:\n",
      "    - imbalanced-learn\n",
      "\n",
      "\n",
      "The following packages will be downloaded:\n",
      "\n",
      "    package                    |            build\n",
      "    ---------------------------|-----------------\n",
      "    imbalanced-learn-0.7.0     |             py_1          97 KB  conda-forge\n",
      "    ------------------------------------------------------------\n",
      "                                           Total:          97 KB\n",
      "\n",
      "The following NEW packages will be INSTALLED:\n",
      "\n",
      "  imbalanced-learn   conda-forge/noarch::imbalanced-learn-0.7.0-py_1 None\n",
      "\n",
      "\n",
      "\n",
      "Downloading and Extracting Packages\n",
      "\n",
      "imbalanced-learn-0.7 | 97 KB     |            |   0% \n",
      "imbalanced-learn-0.7 | 97 KB     | #6         |  17% \n",
      "imbalanced-learn-0.7 | 97 KB     | ########## | 100% \n",
      "imbalanced-learn-0.7 | 97 KB     | ########## | 100% \n",
      "Preparing transaction: ...working... done\n",
      "Verifying transaction: ...working... failed\n",
      "\n",
      "Note: you may need to restart the kernel to use updated packages.\n"
     ]
    },
    {
     "name": "stderr",
     "output_type": "stream",
     "text": [
      "\n",
      "\n",
      "==> WARNING: A newer version of conda exists. <==\n",
      "  current version: 22.9.0\n",
      "  latest version: 23.1.0\n",
      "\n",
      "Please update conda by running\n",
      "\n",
      "    $ conda update -n base -c defaults conda\n",
      "\n",
      "\n",
      "\n",
      "EnvironmentNotWritableError: The current user does not have write permissions to the target environment.\n",
      "  environment location: C:\\ProgramData\\Anaconda3\n",
      "\n",
      "\n"
     ]
    }
   ],
   "source": [
    "conda install -c conda-forge imbalanced-learn"
   ]
  },
  {
   "cell_type": "markdown",
   "metadata": {},
   "source": [
    "Un enfoque rápido y confiable es eliminar aleatoriamente ejemplos de la clase mayoritaria para reducir el desequilibrio a una proporción que sea menos severa o incluso para que las clases sean iguales.\n",
    "\n",
    "El ejemplo a continuación crea datos sintéticos de clasificación desequilibrada, luego utiliza la clase RandomUnderSampler para cambiar la distribución de clase de la relación 1:100 de clases minoritarias a mayoría a la proporción menos severa de 1:2."
   ]
  },
  {
   "cell_type": "code",
   "execution_count": 19,
   "metadata": {},
   "outputs": [
    {
     "ename": "ModuleNotFoundError",
     "evalue": "No module named 'imblearn'",
     "output_type": "error",
     "traceback": [
      "\u001b[1;31m---------------------------------------------------------------------------\u001b[0m",
      "\u001b[1;31mModuleNotFoundError\u001b[0m                       Traceback (most recent call last)",
      "\u001b[1;32m<ipython-input-19-bd0d41d80fd1>\u001b[0m in \u001b[0;36m<module>\u001b[1;34m\u001b[0m\n\u001b[0;32m      2\u001b[0m \u001b[1;32mfrom\u001b[0m \u001b[0mcollections\u001b[0m \u001b[1;32mimport\u001b[0m \u001b[0mCounter\u001b[0m\u001b[1;33m\u001b[0m\u001b[1;33m\u001b[0m\u001b[0m\n\u001b[0;32m      3\u001b[0m \u001b[1;32mfrom\u001b[0m \u001b[0msklearn\u001b[0m\u001b[1;33m.\u001b[0m\u001b[0mdatasets\u001b[0m \u001b[1;32mimport\u001b[0m \u001b[0mmake_classification\u001b[0m\u001b[1;33m\u001b[0m\u001b[1;33m\u001b[0m\u001b[0m\n\u001b[1;32m----> 4\u001b[1;33m \u001b[1;32mfrom\u001b[0m \u001b[0mimblearn\u001b[0m \u001b[1;32mimport\u001b[0m \u001b[0munder_sampling\u001b[0m\u001b[1;33m,\u001b[0m \u001b[0mover_sampling\u001b[0m\u001b[1;33m\u001b[0m\u001b[1;33m\u001b[0m\u001b[0m\n\u001b[0m\u001b[0;32m      5\u001b[0m \u001b[1;32mfrom\u001b[0m \u001b[0mimblearn\u001b[0m\u001b[1;33m.\u001b[0m\u001b[0munder_sampling\u001b[0m \u001b[1;32mimport\u001b[0m \u001b[0mRandomUnderSampler\u001b[0m\u001b[1;33m\u001b[0m\u001b[1;33m\u001b[0m\u001b[0m\n\u001b[0;32m      6\u001b[0m \u001b[1;32mfrom\u001b[0m \u001b[0mimblearn\u001b[0m\u001b[1;33m.\u001b[0m\u001b[0mover_sampling\u001b[0m \u001b[1;32mimport\u001b[0m \u001b[0mSMOTE\u001b[0m\u001b[1;33m\u001b[0m\u001b[1;33m\u001b[0m\u001b[0m\n",
      "\u001b[1;31mModuleNotFoundError\u001b[0m: No module named 'imblearn'"
     ]
    }
   ],
   "source": [
    "# example of undersampling the majority class\n",
    "from collections import Counter\n",
    "from sklearn.datasets import make_classification\n",
    "from imblearn import under_sampling, over_sampling\n",
    "from imblearn.under_sampling import RandomUnderSampler\n",
    "from imblearn.over_sampling import SMOTE\n",
    "\n",
    "# generate dataset\n",
    "X, y = make_classification(n_samples=10000, n_features=2, n_redundant=0, n_clusters_per_class=1, weights=[0.99, 0.01], flip_y=0)\n",
    "# summarize class distribution\n",
    "print(Counter(y))\n",
    "# define undersample strategy\n",
    "undersample = RandomUnderSampler(sampling_strategy=0.5)\n",
    "# fit and apply the transform\n",
    "X_under, y_under = undersample.fit_resample(X, y)\n",
    "# summarize class distribution\n",
    "print(Counter(y_under))"
   ]
  },
  {
   "cell_type": "markdown",
   "metadata": {},
   "source": [
    "# Oversampling de la clase minoritaria\n",
    "En esta lección, descubrirás cómo hacer oversampling de la clase minoritaria en el conjunto de datos de entrenamiento.\n",
    "Una alternativa a eliminar ejemplos de la clase mayoritaria es agregar nuevos ejemplos de la clase minoritaria.\n",
    "Esto se puede lograr simplemente duplicando ejemplos en la clase minoritaria, pero estos ejemplos no agregan ninguna información nueva. En su lugar, se pueden sintetizar nuevos ejemplos de la minoritaria usando ejemplos existentes en el conjunto de datos de entrenamiento. Estos nuevos ejemplos estarán \"cerca\" de los ejemplos existentes en el espacio de características, pero serán diferentes de formas pequeñas pero aleatorias.\n",
    "El algoritmo SMOTE es un enfoque popular para oversampling de la clase minoritaria. Esta técnica se puede utilizar para reducir el desequilibrio o para hacer que la distribución de clases sea uniforme.\n",
    "El ejemplo a continuación muestra cómo usar la clase SMOTE proporcionada por la biblioteca imbalanced-learn en un conjunto de datos sintético. La distribución de clases inicial es 1:100 y se realiza oversampling de la clase minoritaria para lograr una distribución de 1:2."
   ]
  },
  {
   "cell_type": "code",
   "execution_count": null,
   "metadata": {},
   "outputs": [],
   "source": [
    "# example of oversampling the minority class\n",
    "from collections import Counter\n",
    "from sklearn.datasets import make_classification\n",
    "from imblearn.over_sampling import SMOTE\n",
    "# generate dataset\n",
    "X, y = make_classification(n_samples=10000, n_features=2, n_redundant=0, n_clusters_per_class=1, weights=[0.99, 0.01], flip_y=0)\n",
    "# summarize class distribution\n",
    "print(Counter(y))\n",
    "# define oversample strategy\n",
    "oversample = SMOTE(sampling_strategy=0.5)\n",
    "# fit and apply the transform\n",
    "X_over, y_over = oversample.fit_resample(X, y)\n",
    "# summarize class distribution\n",
    "print(Counter(y_over))"
   ]
  },
  {
   "cell_type": "markdown",
   "metadata": {},
   "source": [
    "# Combinando submuestreo y sobremuestreo de datos\n",
    "En esta lección, descubrirás cómo combinar el submuestreo y el sobremuestreo de datos en un conjunto de datos de entrenamiento.\n",
    "El submuestreo de datos eliminará ejemplos de la clase mayoritaria, mientras que el sobremuestreo de datos agregará ejemplos a la clase minoritaria. Estos dos enfoques se pueden combinar y usar en un solo conjunto de datos de entrenamiento.\n",
    "Dado que hay tantas técnicas de muestreo de datos diferentes para elegir, puede ser confuso saber qué métodos combinar. Afortunadamente, existen combinaciones comunes que se han demostrado que funcionan bien en la práctica; algunos ejemplos incluyen:\n",
    "* Submuestreo aleatorio con sobremuestreo SMOTE.\n",
    "* Submuestreo de enlaces de Tomek con sobremuestreo SMOTE.\n",
    "* Submuestreo de vecinos más cercanos editados con sobremuestreo SMOTE.\n",
    "\n",
    "Estas combinaciones se pueden aplicar manualmente a un conjunto de datos de entrenamiento dado aplicando primero un algoritmo de muestreo, luego otro. Afortunadamente, la biblioteca imbalanced-learn proporciona implementaciones de técnicas comunes de muestreo de datos combinadas.\n",
    "El siguiente ejemplo muestra cómo utilizar SMOTEENN, que combina el sobremuestreo SMOTE de la clase minoritaria y el submuestreo de vecinos más cercanos editados de la clase mayoritaria."
   ]
  },
  {
   "cell_type": "code",
   "execution_count": null,
   "metadata": {},
   "outputs": [],
   "source": [
    "# example of both undersampling and oversampling\n",
    "from collections import Counter\n",
    "from sklearn.datasets import make_classification\n",
    "from imblearn.combine import SMOTEENN\n",
    "# generate dataset\n",
    "X, y = make_classification(n_samples=10000, n_features=2, n_redundant=0, n_clusters_per_class=1, weights=[0.99, 0.01], flip_y=0)\n",
    "# summarize class distribution\n",
    "print(Counter(y))\n",
    "# define sampling strategy\n",
    "sample = SMOTEENN(sampling_strategy=0.5)\n",
    "# fit and apply the transform\n",
    "X_over, y_over = sample.fit_resample(X, y)\n",
    "# summarize class distribution\n",
    "print(Counter(y_over))"
   ]
  },
  {
   "cell_type": "markdown",
   "metadata": {},
   "source": [
    "## Algoritmos Sensibles al Costo\n",
    "En esta lección, descubrirás cómo usar algoritmos sensibles al costo para la clasificación desequilibrada.\n",
    "\n",
    "La mayoría de los algoritmos de aprendizaje automático asumen que todos los errores de clasificación cometidos por un modelo son iguales. Esto a menudo no es el caso para problemas de clasificación desequilibrada, donde perder un caso de clase positiva o minoritaria es peor que clasificar incorrectamente un ejemplo de la clase negativa o mayoritaria.\n",
    "\n",
    "El aprendizaje sensible al costo es un subcampo del aprendizaje automático que tiene en cuenta los costos de los errores de predicción (y potencialmente otros costos) al entrenar un modelo de aprendizaje automático. Muchos algoritmos de aprendizaje automático se pueden actualizar para ser sensibles al costo, donde el modelo es penalizado por errores de clasificación de una clase más que de la otra, como la clase minoritaria.\n",
    "\n",
    "La biblioteca scikit-learn proporciona esta capacidad para una variedad de algoritmos a través del atributo class_weight especificado al definir el modelo. Se puede especificar un peso que sea inversamente proporcional a la distribución de clases.\n",
    "\n",
    "Si la distribución de clases era 0,99 a 0,01 para las clases mayoritaria y minoritaria, entonces el argumento class_weight se podría definir como un diccionario que define una penalización del 0,01 para los errores cometidos para la clase mayoritaria y una penalización del 0,99 para los errores cometidos con la clase minoritaria, por ejemplo, {0:0.01, 1:0.99}.\n",
    "\n",
    "Esto es una heurística útil y se puede configurar automáticamente estableciendo el argumento class_weight en la cadena 'balanced'.\n",
    "\n",
    "El ejemplo a continuación muestra cómo definir y ajustar un modelo de regresión logística sensible al costo en un conjunto de datos de clasificación desequilibrado."
   ]
  },
  {
   "cell_type": "code",
   "execution_count": null,
   "metadata": {},
   "outputs": [],
   "source": [
    "# example of cost sensitive logistic regression for imbalanced classification\n",
    "from sklearn.datasets import make_classification\n",
    "from sklearn.model_selection import train_test_split\n",
    "from sklearn.linear_model import LogisticRegression\n",
    "from sklearn.metrics import f1_score\n",
    "# generate dataset\n",
    "X, y = make_classification(n_samples=10000, n_features=2, n_redundant=0, n_clusters_per_class=1, weights=[0.99], flip_y=0)\n",
    "# split into train/test sets with same class ratio\n",
    "trainX, testX, trainy, testy = train_test_split(X, y, test_size=0.5, stratify=y)\n",
    "# define model\n",
    "model = LogisticRegression(solver='liblinear', class_weight='balanced')\n",
    "# fit model\n",
    "model.fit(trainX, trainy)\n",
    "# predict on test set\n",
    "yhat = model.predict(testX)\n",
    "# evaluate predictions\n",
    "print('F-Measure: %.3f' % f1_score(testy, yhat))"
   ]
  },
  {
   "cell_type": "markdown",
   "metadata": {},
   "source": [
    "# ¡El Fin!\n",
    "(Mira lo lejos que has llegado)\n",
    "¡Lo lograste! ¡Bien hecho!\n",
    "\n",
    "Tómate un momento y mira hacia atrás para ver lo lejos que has llegado.\n",
    "\n",
    "Descubriste:\n",
    "\n",
    "El desafío de la clasificación desequilibrada es la falta de ejemplos para la clase minoritaria y la diferencia en la importancia de los errores de clasificación entre las clases.\n",
    "Cómo desarrollar una intuición espacial para conjuntos de datos de clasificación desequilibrados que podrían informar la preparación de datos y la selección de algoritmos.\n",
    "El fracaso de la precisión de clasificación y cómo las métricas alternativas como la precisión, la recuperación y la medida F pueden resumir mejor el rendimiento del modelo en conjuntos de datos desequilibrados.\n",
    "Cómo eliminar ejemplos de la clase mayoritaria en el conjunto de datos de entrenamiento, lo que se conoce como submuestreo de datos.\n",
    "Cómo sintetizar nuevos ejemplos en la clase minoritaria en el conjunto de datos de entrenamiento, lo que se conoce como sobremuestreo de datos.\n",
    "Cómo combinar técnicas de sobremuestreo y submuestreo de datos en el conjunto de datos de entrenamiento, y combinaciones comunes que dan como resultado un buen rendimiento.\n",
    "Cómo utilizar versiones modificadas de algoritmos de aprendizaje automático sensibles al costo para mejorar el rendimiento en conjuntos de datos de clasificación desequilibrados."
   ]
  },
  {
   "cell_type": "markdown",
   "metadata": {},
   "source": [
    "# SMOTE para Clasificación con Desbalanceo de Clases en Python"
   ]
  },
  {
   "cell_type": "markdown",
   "metadata": {},
   "source": [
    "La clasificación con desbalanceo de clases implica desarrollar modelos predictivos en conjuntos de datos de clasificación que tienen un grave desequilibrio de clases.\n",
    "El desafío de trabajar con conjuntos de datos desbalanceados es que la mayoría de las técnicas de aprendizaje automático ignorarán, y por lo tanto tendrán un bajo rendimiento en, la clase minoritaria, aunque típicamente es el rendimiento en la clase minoritaria lo que es más importante.\n",
    "Un enfoque para abordar los conjuntos de datos desbalanceados es sobremuestrear la clase minoritaria. El enfoque más simple implica duplicar ejemplos en la clase minoritaria, aunque estos ejemplos no agregan información nueva al modelo. En su lugar, se pueden sintetizar nuevos ejemplos a partir de los ejemplos existentes. Este es un tipo de aumento de datos para la clase minoritaria y se conoce como la Técnica de Sobremuestreo de Minorías Sintéticas, o SMOTE por sus siglas en inglés.\n",
    "En este tutorial, descubrirás cómo utilizar SMOTE para el sobremuestreo de conjuntos de datos de clasificación desbalanceados.\n",
    "\n",
    "Después de completar este tutorial, sabrás:\n",
    "\n",
    "Cómo SMOTE sintetiza nuevos ejemplos para la clase minoritaria.\n",
    "Cómo ajustar y evaluar correctamente los modelos de aprendizaje automático en conjuntos de datos de entrenamiento transformados por SMOTE.\n",
    "Cómo usar extensiones de SMOTE que generan ejemplos sintéticos a lo largo de la frontera de decisión de clase."
   ]
  },
  {
   "cell_type": "markdown",
   "metadata": {},
   "source": [
    "## Técnica de Sobremuestreo Minoritario Sintético (SMOTE)\n",
    "\n",
    "Un problema del aprendizaje automático de clasificación desbalanceada es que hay muy pocos ejemplos de la clase minoritaria para que el modelo aprenda efectivamente los límites de decisión.\n",
    "\n",
    "Una forma de solucionar este problema es mediante el sobremuestreo de ejemplos en la clase minoritaria. Esto se puede lograr duplicando los ejemplos de la clase minoritaria en el conjunto de entrenamiento antes de ajustar un modelo. Esto puede equilibrar la distribución de clases, pero no proporciona información adicional al modelo.\n",
    "\n",
    "Una mejora en la duplicación de ejemplos de la clase minoritaria es sintetizar nuevos ejemplos a partir de la clase minoritaria. Esto es un tipo de aumento de datos para datos tabulares y puede ser muy efectivo.\n",
    "\n",
    "Quizás el enfoque más ampliamente utilizado para sintetizar nuevos ejemplos se llama Técnica de Sobremuestreo Minoritario Sintético (Synthetic Minority Oversampling Technique, SMOTE). Esta técnica fue descrita por Nitesh Chawla et al. en su artículo de 2002 titulado \"SMOTE: Synthetic Minority Over-sampling Technique\".\n",
    "\n",
    "SMOTE funciona seleccionando ejemplos que están cercanos en el espacio de características, trazando una línea entre los ejemplos en el espacio de características y dibujando una nueva muestra en un punto a lo largo de esa línea.\n",
    "\n",
    "Específicamente, primero se elige al azar un ejemplo de la clase minoritaria. Luego se buscan k (generalmente k = 5) de los vecinos más cercanos para ese ejemplo. Se elige al azar un vecino y se crea un ejemplo sintético en un punto seleccionado al azar entre los dos ejemplos en el espacio de características.\n",
    "\n",
    "... SMOTE primero selecciona una instancia de clase minoritaria \"a\" al azar y encuentra sus k vecinos más cercanos de clase minoritaria. La instancia sintética se crea eligiendo uno de los k vecinos más cercanos \"b\" al azar y conectando a y b para formar un segmento de línea en el espacio de características. Las instancias sintéticas se generan como una combinación convexa de las dos instancias elegidas \"a\" y \"b\".\n",
    "\n",
    "— Página 47, Aprendizaje Desbalanceado: Fundamentos, Algoritmos y Aplicaciones, 2013.\n",
    "\n",
    "Este procedimiento se puede utilizar para crear tantos ejemplos sintéticos para la clase minoritaria como se requieran. Como se describe en el artículo, sugiere utilizar primero un submuestreo aleatorio para reducir el número de ejemplos en la clase mayoritaria y luego utilizar SMOTE para sobremuestrear la clase minoritaria para equilibrar la distribución de clases.\n",
    "\n",
    "La combinación de SMOTE y submuestreo funciona mejor que el submuestreo simple.\n",
    "\n",
    "— Técnica de Sobremuestreo Minoritario Sintético (Synthetic Minority Oversampling Technique), 2011.\n",
    "\n",
    "El enfoque es efectivo porque se crean nuevos ejemplos sintéticos de la clase minoritaria que son plausibles, es decir, están relativamente cerca en el espacio de características de los ejemplos existentes de la clase minoritaria.\n",
    "Una desventaja general del enfoque es que los ejemplos sintéticos se crean sin tener en cuenta la clase mayoritaria, lo que puede dar lugar a ejemplos ambiguos si hay un fuerte solapamiento de las clases.\n",
    "\n",
    "Ahora que ya conocemos la técnica, veamos un ejemplo práctico de un problema de clasificación desequilibrada."
   ]
  },
  {
   "cell_type": "markdown",
   "metadata": {},
   "source": [
    "## Biblioteca Imbalanced-Learn\n",
    "En estos ejemplos, utilizaremos las implementaciones proporcionadas por la biblioteca de Python imbalanced-learn, que se puede instalar a través de pip de la siguiente manera:"
   ]
  },
  {
   "cell_type": "code",
   "execution_count": null,
   "metadata": {},
   "outputs": [],
   "source": [
    "sudo pip install imbalanced-learn"
   ]
  },
  {
   "cell_type": "markdown",
   "metadata": {},
   "source": [
    "Para confirmar que la instalación se realizó con éxito, se puede imprimir la versión de la biblioteca instalada:\n",
    "Al ejecutar el ejemplo se imprimirá el número de versión de la biblioteca instalada; por ejemplo:"
   ]
  },
  {
   "cell_type": "code",
   "execution_count": null,
   "metadata": {},
   "outputs": [],
   "source": [
    "# Verificar número de versión\n",
    "import imblearn\n",
    "print(imblearn.__version__)"
   ]
  },
  {
   "cell_type": "markdown",
   "metadata": {},
   "source": [
    "### SMOTE para equilibrar los datos\n",
    "En esta sección, desarrollaremos una intuición para SMOTE aplicándolo a un problema de clasificación binaria desequilibrado.\n",
    "Primero, podemos utilizar la función make_classification() de scikit-learn para crear un conjunto de datos de clasificación binaria sintético con 10.000 ejemplos y una distribución de clases de 1:100."
   ]
  },
  {
   "cell_type": "code",
   "execution_count": null,
   "metadata": {},
   "outputs": [],
   "source": [
    "# definir conjunto de datos\n",
    "X, y = make_classification(n_samples=10000, n_features=2, n_redundant=0, n_clusters_per_class=1, weights=[0.99], flip_y=0, random_state=1)"
   ]
  },
  {
   "cell_type": "markdown",
   "metadata": {},
   "source": [
    "Podemos utilizar el objeto Counter para resumir el número de ejemplos en cada clase para confirmar que se creó correctamente el conjunto de datos."
   ]
  },
  {
   "cell_type": "code",
   "execution_count": null,
   "metadata": {},
   "outputs": [],
   "source": [
    "# resumir la distribución de clases\n",
    "counter = Counter(y)\n",
    "print(counter)"
   ]
  },
  {
   "cell_type": "markdown",
   "metadata": {},
   "source": [
    "Finalmente, podemos crear un gráfico de dispersión del conjunto de datos y colorear los ejemplos de cada clase con un color diferente para ver claramente la naturaleza espacial del desequilibrio de clases."
   ]
  },
  {
   "cell_type": "code",
   "execution_count": null,
   "metadata": {},
   "outputs": [],
   "source": [
    "# gráfico de dispersión de ejemplos por etiqueta de clase\n",
    "for label, _ in counter.items():\n",
    "    row_ix = where(y == label)[0]\n",
    "    pyplot.scatter(X[row_ix, 0], X[row_ix, 1], label=str(label))\n",
    "pyplot.legend()\n",
    "pyplot.show()"
   ]
  },
  {
   "cell_type": "markdown",
   "metadata": {},
   "source": [
    "Juntando todo esto, el ejemplo completo de generar y graficar un conjunto de datos de clasificación binaria sintético y desequilibrado se muestra a continuación."
   ]
  },
  {
   "cell_type": "code",
   "execution_count": null,
   "metadata": {},
   "outputs": [],
   "source": [
    "# Generar y graficar un conjunto de datos de clasificación binaria sintético y desequilibrado\n",
    "from collections import Counter\n",
    "from sklearn.datasets import make_classification\n",
    "from matplotlib import pyplot\n",
    "from numpy import where\n",
    "# define dataset\n",
    "X, y = make_classification(n_samples=10000, n_features=2, n_redundant=0, n_clusters_per_class=1, weights=[0.99], flip_y=0, random_state=1)\n",
    "# summarize class distribution\n",
    "counter = Counter(y)\n",
    "print(counter)\n",
    "# scatter plot of examples by class label\n",
    "for label, _ in counter.items():\n",
    "    row_ix = where(y == label)[0]\n",
    "    pyplot.scatter(X[row_ix, 0], X[row_ix, 1], label=str(label))\n",
    "pyplot.legend()\n",
    "pyplot.show()"
   ]
  },
  {
   "cell_type": "markdown",
   "metadata": {},
   "source": [
    "Al ejecutar el ejemplo se resume la distribución de clases, se confirma la relación 1:100, en este caso con alrededor de 9.900 ejemplos en la clase mayoritaria y 100 en la clase minoritaria."
   ]
  },
  {
   "cell_type": "code",
   "execution_count": null,
   "metadata": {},
   "outputs": [],
   "source": [
    "Counter({0: 9900, 1: 100})"
   ]
  },
  {
   "cell_type": "markdown",
   "metadata": {},
   "source": [
    "Se crea un gráfico de dispersión del conjunto de datos que muestra la gran cantidad de puntos que pertenecen a la clase mayoritaria (azul) y un pequeño número de puntos distribuidos para la clase minoritaria (naranja). Se puede observar cierta superposición entre las dos clases."
   ]
  },
  {
   "cell_type": "markdown",
   "metadata": {},
   "source": [
    "Gráfico de dispersión de problema de clasificación binaria desequilibrado"
   ]
  },
  {
   "cell_type": "markdown",
   "metadata": {},
   "source": [
    "A continuación, podemos sobre-muestrear la clase minoritaria utilizando SMOTE y graficar el conjunto de datos transformado.\n",
    "Podemos utilizar la implementación de SMOTE proporcionada por la biblioteca de Python imbalanced-learn en la clase SMOTE.\n",
    "La clase SMOTE actúa como un objeto transformador de datos de scikit-learn en el sentido de que debe ser definido y configurado, ajustado en un conjunto de datos y luego aplicado para crear una nueva versión transformada del conjunto de datos.\n",
    "\n",
    "Por ejemplo, podemos definir una instancia de SMOTE con parámetros predeterminados que equilibrará la clase minoritaria y luego ajustarlo y aplicarlo en un solo paso para crear una versión transformada de nuestro conjunto de datos."
   ]
  },
  {
   "cell_type": "code",
   "execution_count": null,
   "metadata": {},
   "outputs": [],
   "source": [
    "# transform the dataset\n",
    "oversample = SMOTE()\n",
    "X, y = oversample.fit_resample(X, y)"
   ]
  },
  {
   "cell_type": "markdown",
   "metadata": {},
   "source": [
    "Una vez transformados, podemos resumir la distribución de clases del nuevo conjunto de datos transformado, que se espera que ahora esté equilibrado gracias a la creación de muchos ejemplos sintéticos nuevos en la clase minoritaria."
   ]
  },
  {
   "cell_type": "code",
   "execution_count": null,
   "metadata": {},
   "outputs": [],
   "source": [
    "# summarize the new class distribution\n",
    "counter = Counter(y)\n",
    "print(counter)"
   ]
  },
  {
   "cell_type": "markdown",
   "metadata": {},
   "source": [
    "También se puede crear un gráfico de dispersión del conjunto de datos transformado y esperaríamos ver muchos más ejemplos de la clase minoritaria en las líneas entre los ejemplos originales en la clase minoritaria."
   ]
  },
  {
   "cell_type": "markdown",
   "metadata": {},
   "source": [
    "\n",
    "Juntando todo esto, se muestra a continuación el ejemplo completo de aplicar SMOTE al conjunto de datos sintético y luego resumir y graficar el resultado transformado."
   ]
  },
  {
   "cell_type": "code",
   "execution_count": 21,
   "metadata": {},
   "outputs": [],
   "source": [
    "# https://machinelearningmastery.com/smote-oversampling-for-imbalanced-classification/"
   ]
  },
  {
   "cell_type": "code",
   "execution_count": null,
   "metadata": {},
   "outputs": [],
   "source": []
  }
 ],
 "metadata": {
  "kernelspec": {
   "display_name": "Python 3",
   "language": "python",
   "name": "python3"
  },
  "language_info": {
   "codemirror_mode": {
    "name": "ipython",
    "version": 3
   },
   "file_extension": ".py",
   "mimetype": "text/x-python",
   "name": "python",
   "nbconvert_exporter": "python",
   "pygments_lexer": "ipython3",
   "version": "3.8.8"
  }
 },
 "nbformat": 4,
 "nbformat_minor": 2
}

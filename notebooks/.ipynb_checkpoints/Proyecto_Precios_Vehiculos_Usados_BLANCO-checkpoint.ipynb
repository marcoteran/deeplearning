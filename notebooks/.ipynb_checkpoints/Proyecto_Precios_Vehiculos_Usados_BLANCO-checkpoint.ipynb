{
 "cells": [
  {
   "cell_type": "markdown",
   "metadata": {
    "id": "7iFOX_Y3igEV"
   },
   "source": [
    "![texto alternativo](https://drive.google.com/uc?id=1_ZoJOp39dxsRTVndJP1_7jdY7oGi8sSu) \n",
    "\n",
    "<h1><center>Redes Neuronales con Keras y Scikit</center></h1>\n",
    "\n",
    "\n",
    "<center><i>Proyecto: Predicción de precios de vehiculos usados</i></center>"
   ]
  },
  {
   "cell_type": "markdown",
   "metadata": {
    "id": "ARGQZBuPwJoD"
   },
   "source": [
    "<h1>Contenido</h1>\n",
    "\n",
    "<div class=\"alert alert-block alert-warning\" style=\"margin-top: 20px\">\n",
    "    <ol>\n",
    "        <li><a href=\"#problema\">Contexto Analítico  y exploración de datos</a></li>     \n",
    "        <li><a href=\"#ingenieria\">Ingeniería de datos</a></li>           \n",
    "        <li><a href=\"#arquitectura\">Diseño, Entrenamiento y Evaluación de la RN</a></li>\n",
    "    </ol>\n",
    "</div>\n",
    "<br>\n",
    "<hr>"
   ]
  },
  {
   "cell_type": "markdown",
   "metadata": {
    "id": "_VfqD089-WuQ"
   },
   "source": [
    "<h1 id=\"problema\">Contexto analítico y exploración de datos</h1>\n",
    "\n",
    "El mercado de autos usados es reconocido por ser un sector economico muy competido con un centenar de compañias que luchan por hacerse con una porción de la torta. El precio de los autos se devalua año año debido a multiples factores y determinar el precio correcto es clave para las compañias para lograr competir en el mercado. En este caso se requiere implementar una red neural que permita determinar el valor más justo para los vehiculos dependiento de sus atributos.\n",
    "\n",
    "Se cuenta con un dataset (Craiglist_Cars.csv) que serán cargados directamente a Colab.\n"
   ]
  },
  {
   "cell_type": "code",
   "execution_count": 1,
   "metadata": {
    "id": "MdkkRVpVZbyQ"
   },
   "outputs": [],
   "source": [
    "#Importamos las librerias necesarias\n",
    "import pandas as pd\n",
    "import numpy as np\n",
    "import io\n",
    "from google.colab import files #Librería necesaria para interactuar con archivos en Colab"
   ]
  },
  {
   "cell_type": "code",
   "execution_count": 2,
   "metadata": {
    "colab": {
     "base_uri": "https://localhost:8080/",
     "height": 142
    },
    "id": "lUUfMdJ3rnXz",
    "outputId": "409b9ab7-c661-433b-ec6f-619c2246ef87"
   },
   "outputs": [
    {
     "data": {
      "text/html": [
       "<div>\n",
       "<style scoped>\n",
       "    .dataframe tbody tr th:only-of-type {\n",
       "        vertical-align: middle;\n",
       "    }\n",
       "\n",
       "    .dataframe tbody tr th {\n",
       "        vertical-align: top;\n",
       "    }\n",
       "\n",
       "    .dataframe thead th {\n",
       "        text-align: right;\n",
       "    }\n",
       "</style>\n",
       "<table border=\"1\" class=\"dataframe\">\n",
       "  <thead>\n",
       "    <tr style=\"text-align: right;\">\n",
       "      <th></th>\n",
       "      <th>year</th>\n",
       "      <th>manufacturer</th>\n",
       "      <th>condition</th>\n",
       "      <th>cylinders</th>\n",
       "      <th>fuel</th>\n",
       "      <th>title_status</th>\n",
       "      <th>transmission</th>\n",
       "      <th>drive</th>\n",
       "      <th>size</th>\n",
       "      <th>type</th>\n",
       "      <th>paint_color</th>\n",
       "      <th>price</th>\n",
       "    </tr>\n",
       "  </thead>\n",
       "  <tbody>\n",
       "    <tr>\n",
       "      <th>0</th>\n",
       "      <td>2009</td>\n",
       "      <td>chevrolet</td>\n",
       "      <td>good</td>\n",
       "      <td>8 cylinders</td>\n",
       "      <td>gas</td>\n",
       "      <td>clean</td>\n",
       "      <td>automatic</td>\n",
       "      <td>rwd</td>\n",
       "      <td>full-size</td>\n",
       "      <td>SUV</td>\n",
       "      <td>white</td>\n",
       "      <td>9000</td>\n",
       "    </tr>\n",
       "    <tr>\n",
       "      <th>1</th>\n",
       "      <td>2002</td>\n",
       "      <td>gmc</td>\n",
       "      <td>good</td>\n",
       "      <td>8 cylinders</td>\n",
       "      <td>gas</td>\n",
       "      <td>clean</td>\n",
       "      <td>automatic</td>\n",
       "      <td>4wd</td>\n",
       "      <td>NaN</td>\n",
       "      <td>pickup</td>\n",
       "      <td>white</td>\n",
       "      <td>6000</td>\n",
       "    </tr>\n",
       "    <tr>\n",
       "      <th>2</th>\n",
       "      <td>2007</td>\n",
       "      <td>pontiac</td>\n",
       "      <td>excellent</td>\n",
       "      <td>4 cylinders</td>\n",
       "      <td>gas</td>\n",
       "      <td>clean</td>\n",
       "      <td>automatic</td>\n",
       "      <td>fwd</td>\n",
       "      <td>compact</td>\n",
       "      <td>convertible</td>\n",
       "      <td>red</td>\n",
       "      <td>7000</td>\n",
       "    </tr>\n",
       "  </tbody>\n",
       "</table>\n",
       "</div>"
      ],
      "text/plain": [
       "   year manufacturer  condition  ...         type paint_color price\n",
       "0  2009    chevrolet       good  ...          SUV       white  9000\n",
       "1  2002          gmc       good  ...       pickup       white  6000\n",
       "2  2007      pontiac  excellent  ...  convertible         red  7000\n",
       "\n",
       "[3 rows x 12 columns]"
      ]
     },
     "execution_count": 2,
     "metadata": {
      "tags": []
     },
     "output_type": "execute_result"
    }
   ],
   "source": [
    "#uploaded = files.upload()\n",
    "#cars = pd.read_csv(io.StringIO(uploaded['Craiglist_Cars.csv'].decode('utf-8')), sep = ',' )\n",
    "cars = pd.read_csv('Craiglist_Cars.csv', sep = ',' )\n",
    "cars.head(3)"
   ]
  },
  {
   "cell_type": "markdown",
   "metadata": {
    "id": "cSWTI9p6ZH9O"
   },
   "source": [
    "#1. Evalua la cantidad, tipo y completitud de las variables disponibles. \n",
    "\n"
   ]
  },
  {
   "cell_type": "code",
   "execution_count": 3,
   "metadata": {
    "colab": {
     "base_uri": "https://localhost:8080/",
     "height": 255
    },
    "id": "B6Lu6dsRBOob",
    "outputId": "5f105ad3-9cc6-4ae8-cbb7-188c545f9937"
   },
   "outputs": [
    {
     "name": "stdout",
     "output_type": "stream",
     "text": [
      "(434542, 12)\n"
     ]
    },
    {
     "data": {
      "text/plain": [
       "year             0.000000\n",
       "manufacturer     3.646138\n",
       "condition       36.860649\n",
       "cylinders       28.306355\n",
       "fuel             0.839505\n",
       "title_status     0.662997\n",
       "transmission     0.989087\n",
       "drive           13.280189\n",
       "size            58.133621\n",
       "type            11.566661\n",
       "paint_color     19.734571\n",
       "price            0.000000\n",
       "dtype: float64"
      ]
     },
     "execution_count": 3,
     "metadata": {
      "tags": []
     },
     "output_type": "execute_result"
    }
   ],
   "source": [
    "print(cars.shape)\n",
    "100*cars.isnull().sum()/cars.shape[0]"
   ]
  },
  {
   "cell_type": "code",
   "execution_count": 4,
   "metadata": {
    "colab": {
     "base_uri": "https://localhost:8080/",
     "height": 85
    },
    "id": "8cYAAJxXBr2b",
    "outputId": "eedb0f65-dac2-4805-9b97-4c4bc1c97da0"
   },
   "outputs": [
    {
     "name": "stdout",
     "output_type": "stream",
     "text": [
      "0\n",
      "int64      2\n",
      "object    10\n",
      "dtype: int64\n"
     ]
    }
   ],
   "source": [
    "types = pd.DataFrame(cars.dtypes)\n",
    "print(types.groupby(0).size())"
   ]
  },
  {
   "cell_type": "code",
   "execution_count": 5,
   "metadata": {
    "colab": {
     "base_uri": "https://localhost:8080/",
     "height": 187
    },
    "id": "07gsnrCtHL7e",
    "outputId": "af2392af-a6be-4787-fbb8-80028d5a4bce"
   },
   "outputs": [
    {
     "name": "stdout",
     "output_type": "stream",
     "text": [
      "La variable manufacturer contiene: 43 distinct values\n",
      "La variable condition contiene: 7 distinct values\n",
      "La variable cylinders contiene: 9 distinct values\n",
      "La variable fuel contiene: 6 distinct values\n",
      "La variable title_status contiene: 7 distinct values\n",
      "La variable transmission contiene: 4 distinct values\n",
      "La variable drive contiene: 4 distinct values\n",
      "La variable size contiene: 5 distinct values\n",
      "La variable type contiene: 14 distinct values\n",
      "La variable paint_color contiene: 13 distinct values\n"
     ]
    }
   ],
   "source": [
    "categoricas = types.index[types[0] == 'O'].values\n",
    "for line in categoricas:\n",
    " print(\"La variable \"+ line +\" contiene:\",str(len(cars[line].unique()))+\" distinct values\")"
   ]
  },
  {
   "cell_type": "code",
   "execution_count": null,
   "metadata": {
    "id": "uYilrpGZHgWe"
   },
   "outputs": [],
   "source": [
    "###Coloca tu código aquí"
   ]
  },
  {
   "cell_type": "markdown",
   "metadata": {
    "id": "B9_dNCTum1Hw"
   },
   "source": [
    "<h1 id=\"ingenieria\">Ingeniería de datos</h1>\n",
    "\n",
    "Ahora se debe preparar la información para poder alimentar la red neuronal."
   ]
  },
  {
   "cell_type": "markdown",
   "metadata": {
    "id": "vRCjvmPz63n7"
   },
   "source": [
    "# 2. Implementa estrategías para tratar la información nula en las variables cuya tasa de nulos sea máximo el 10%"
   ]
  },
  {
   "cell_type": "code",
   "execution_count": 6,
   "metadata": {
    "id": "hVNrQiqFO78K"
   },
   "outputs": [],
   "source": [
    "cars[\"fuel\"] = cars[\"fuel\"].fillna(cars[\"fuel\"].mode()[0])"
   ]
  },
  {
   "cell_type": "code",
   "execution_count": 7,
   "metadata": {
    "colab": {
     "base_uri": "https://localhost:8080/",
     "height": 255
    },
    "id": "OK1S1PqgHgN6",
    "outputId": "d740ef8a-1c12-435f-a58e-d6848b4b210c"
   },
   "outputs": [
    {
     "name": "stdout",
     "output_type": "stream",
     "text": [
      "(434542, 12)\n"
     ]
    },
    {
     "data": {
      "text/plain": [
       "year             0.000000\n",
       "manufacturer     3.646138\n",
       "condition       36.860649\n",
       "cylinders       28.306355\n",
       "fuel             0.000000\n",
       "title_status     0.662997\n",
       "transmission     0.989087\n",
       "drive           13.280189\n",
       "size            58.133621\n",
       "type            11.566661\n",
       "paint_color     19.734571\n",
       "price            0.000000\n",
       "dtype: float64"
      ]
     },
     "execution_count": 7,
     "metadata": {
      "tags": []
     },
     "output_type": "execute_result"
    }
   ],
   "source": [
    "print(cars.shape)\n",
    "100*cars.isnull().sum()/cars.shape[0]"
   ]
  },
  {
   "cell_type": "code",
   "execution_count": 8,
   "metadata": {
    "colab": {
     "base_uri": "https://localhost:8080/",
     "height": 238
    },
    "id": "XonBwc4GHkox",
    "outputId": "24cb0b42-dd3d-42f4-8a59-a4b2b1b200c5"
   },
   "outputs": [
    {
     "data": {
      "text/plain": [
       "year             0.000000\n",
       "manufacturer     0.000000\n",
       "condition       36.860649\n",
       "cylinders       28.306355\n",
       "fuel             0.000000\n",
       "title_status     0.000000\n",
       "transmission     0.000000\n",
       "drive           13.280189\n",
       "size            58.133621\n",
       "type            11.566661\n",
       "paint_color     19.734571\n",
       "price            0.000000\n",
       "dtype: float64"
      ]
     },
     "execution_count": 8,
     "metadata": {
      "tags": []
     },
     "output_type": "execute_result"
    }
   ],
   "source": [
    "cars[\"title_status\"] = cars[\"title_status\"].fillna(cars[\"title_status\"].mode()[0])\n",
    "cars[\"transmission\"] = cars[\"transmission\"].fillna(cars[\"transmission\"].mode()[0])\n",
    "cars[\"manufacturer\"] = cars[\"manufacturer\"].fillna(cars[\"manufacturer\"].mode()[0])\n",
    "#Verificamos el cambio\n",
    "100*cars.isnull().sum()/cars.shape[0]"
   ]
  },
  {
   "cell_type": "markdown",
   "metadata": {
    "id": "CtshbEQa7aRW"
   },
   "source": [
    "Luego del procedimiento anterior se debe proceder a convertir las variables categoricas en variables numericas. Durante el curso implementamos un método de One Hot Encoding disponible en Scikit Learn. En este caso utilizaremos una funcionalidad embedida en Pandas denominada [\"get_dummies\"](https://pandas.pydata.org/pandas-docs/stable/reference/api/pandas.get_dummies.html):"
   ]
  },
  {
   "cell_type": "code",
   "execution_count": 9,
   "metadata": {
    "colab": {
     "base_uri": "https://localhost:8080/",
     "height": 225
    },
    "id": "ZEtEYD5DS1iI",
    "outputId": "9daa5808-1aa1-4bd2-a268-de006183eb77"
   },
   "outputs": [
    {
     "name": "stdout",
     "output_type": "stream",
     "text": [
      "(434542, 100)\n"
     ]
    },
    {
     "data": {
      "text/html": [
       "<div>\n",
       "<style scoped>\n",
       "    .dataframe tbody tr th:only-of-type {\n",
       "        vertical-align: middle;\n",
       "    }\n",
       "\n",
       "    .dataframe tbody tr th {\n",
       "        vertical-align: top;\n",
       "    }\n",
       "\n",
       "    .dataframe thead th {\n",
       "        text-align: right;\n",
       "    }\n",
       "</style>\n",
       "<table border=\"1\" class=\"dataframe\">\n",
       "  <thead>\n",
       "    <tr style=\"text-align: right;\">\n",
       "      <th></th>\n",
       "      <th>year</th>\n",
       "      <th>price</th>\n",
       "      <th>acura</th>\n",
       "      <th>alfa-romeo</th>\n",
       "      <th>aston-martin</th>\n",
       "      <th>audi</th>\n",
       "      <th>bmw</th>\n",
       "      <th>buick</th>\n",
       "      <th>cadillac</th>\n",
       "      <th>chevrolet</th>\n",
       "      <th>chrysler</th>\n",
       "      <th>datsun</th>\n",
       "      <th>dodge</th>\n",
       "      <th>ferrari</th>\n",
       "      <th>fiat</th>\n",
       "      <th>ford</th>\n",
       "      <th>gmc</th>\n",
       "      <th>harley-davidson</th>\n",
       "      <th>hennessey</th>\n",
       "      <th>honda</th>\n",
       "      <th>hyundai</th>\n",
       "      <th>infiniti</th>\n",
       "      <th>jaguar</th>\n",
       "      <th>jeep</th>\n",
       "      <th>kia</th>\n",
       "      <th>land rover</th>\n",
       "      <th>lexus</th>\n",
       "      <th>lincoln</th>\n",
       "      <th>mazda</th>\n",
       "      <th>mercedes-benz</th>\n",
       "      <th>mercury</th>\n",
       "      <th>mini</th>\n",
       "      <th>mitsubishi</th>\n",
       "      <th>morgan</th>\n",
       "      <th>nissan</th>\n",
       "      <th>pontiac</th>\n",
       "      <th>porche</th>\n",
       "      <th>ram</th>\n",
       "      <th>rover</th>\n",
       "      <th>saturn</th>\n",
       "      <th>...</th>\n",
       "      <th>hybrid</th>\n",
       "      <th>clean</th>\n",
       "      <th>lien</th>\n",
       "      <th>missing</th>\n",
       "      <th>parts only</th>\n",
       "      <th>rebuilt</th>\n",
       "      <th>salvage</th>\n",
       "      <th>automatic</th>\n",
       "      <th>manual</th>\n",
       "      <th>4wd</th>\n",
       "      <th>fwd</th>\n",
       "      <th>rwd</th>\n",
       "      <th>compact</th>\n",
       "      <th>full-size</th>\n",
       "      <th>mid-size</th>\n",
       "      <th>sub-compact</th>\n",
       "      <th>SUV</th>\n",
       "      <th>bus</th>\n",
       "      <th>convertible</th>\n",
       "      <th>coupe</th>\n",
       "      <th>hatchback</th>\n",
       "      <th>mini-van</th>\n",
       "      <th>offroad</th>\n",
       "      <th>pickup</th>\n",
       "      <th>sedan</th>\n",
       "      <th>truck</th>\n",
       "      <th>van</th>\n",
       "      <th>wagon</th>\n",
       "      <th>black</th>\n",
       "      <th>blue</th>\n",
       "      <th>brown</th>\n",
       "      <th>custom</th>\n",
       "      <th>green</th>\n",
       "      <th>grey</th>\n",
       "      <th>orange</th>\n",
       "      <th>purple</th>\n",
       "      <th>red</th>\n",
       "      <th>silver</th>\n",
       "      <th>white</th>\n",
       "      <th>yellow</th>\n",
       "    </tr>\n",
       "  </thead>\n",
       "  <tbody>\n",
       "    <tr>\n",
       "      <th>0</th>\n",
       "      <td>2009</td>\n",
       "      <td>9000</td>\n",
       "      <td>0</td>\n",
       "      <td>0</td>\n",
       "      <td>0</td>\n",
       "      <td>0</td>\n",
       "      <td>0</td>\n",
       "      <td>0</td>\n",
       "      <td>0</td>\n",
       "      <td>1</td>\n",
       "      <td>0</td>\n",
       "      <td>0</td>\n",
       "      <td>0</td>\n",
       "      <td>0</td>\n",
       "      <td>0</td>\n",
       "      <td>0</td>\n",
       "      <td>0</td>\n",
       "      <td>0</td>\n",
       "      <td>0</td>\n",
       "      <td>0</td>\n",
       "      <td>0</td>\n",
       "      <td>0</td>\n",
       "      <td>0</td>\n",
       "      <td>0</td>\n",
       "      <td>0</td>\n",
       "      <td>0</td>\n",
       "      <td>0</td>\n",
       "      <td>0</td>\n",
       "      <td>0</td>\n",
       "      <td>0</td>\n",
       "      <td>0</td>\n",
       "      <td>0</td>\n",
       "      <td>0</td>\n",
       "      <td>0</td>\n",
       "      <td>0</td>\n",
       "      <td>0</td>\n",
       "      <td>0</td>\n",
       "      <td>0</td>\n",
       "      <td>0</td>\n",
       "      <td>0</td>\n",
       "      <td>...</td>\n",
       "      <td>0</td>\n",
       "      <td>1</td>\n",
       "      <td>0</td>\n",
       "      <td>0</td>\n",
       "      <td>0</td>\n",
       "      <td>0</td>\n",
       "      <td>0</td>\n",
       "      <td>1</td>\n",
       "      <td>0</td>\n",
       "      <td>0</td>\n",
       "      <td>0</td>\n",
       "      <td>1</td>\n",
       "      <td>0</td>\n",
       "      <td>1</td>\n",
       "      <td>0</td>\n",
       "      <td>0</td>\n",
       "      <td>1</td>\n",
       "      <td>0</td>\n",
       "      <td>0</td>\n",
       "      <td>0</td>\n",
       "      <td>0</td>\n",
       "      <td>0</td>\n",
       "      <td>0</td>\n",
       "      <td>0</td>\n",
       "      <td>0</td>\n",
       "      <td>0</td>\n",
       "      <td>0</td>\n",
       "      <td>0</td>\n",
       "      <td>0</td>\n",
       "      <td>0</td>\n",
       "      <td>0</td>\n",
       "      <td>0</td>\n",
       "      <td>0</td>\n",
       "      <td>0</td>\n",
       "      <td>0</td>\n",
       "      <td>0</td>\n",
       "      <td>0</td>\n",
       "      <td>0</td>\n",
       "      <td>1</td>\n",
       "      <td>0</td>\n",
       "    </tr>\n",
       "    <tr>\n",
       "      <th>1</th>\n",
       "      <td>2002</td>\n",
       "      <td>6000</td>\n",
       "      <td>0</td>\n",
       "      <td>0</td>\n",
       "      <td>0</td>\n",
       "      <td>0</td>\n",
       "      <td>0</td>\n",
       "      <td>0</td>\n",
       "      <td>0</td>\n",
       "      <td>0</td>\n",
       "      <td>0</td>\n",
       "      <td>0</td>\n",
       "      <td>0</td>\n",
       "      <td>0</td>\n",
       "      <td>0</td>\n",
       "      <td>0</td>\n",
       "      <td>1</td>\n",
       "      <td>0</td>\n",
       "      <td>0</td>\n",
       "      <td>0</td>\n",
       "      <td>0</td>\n",
       "      <td>0</td>\n",
       "      <td>0</td>\n",
       "      <td>0</td>\n",
       "      <td>0</td>\n",
       "      <td>0</td>\n",
       "      <td>0</td>\n",
       "      <td>0</td>\n",
       "      <td>0</td>\n",
       "      <td>0</td>\n",
       "      <td>0</td>\n",
       "      <td>0</td>\n",
       "      <td>0</td>\n",
       "      <td>0</td>\n",
       "      <td>0</td>\n",
       "      <td>0</td>\n",
       "      <td>0</td>\n",
       "      <td>0</td>\n",
       "      <td>0</td>\n",
       "      <td>0</td>\n",
       "      <td>...</td>\n",
       "      <td>0</td>\n",
       "      <td>1</td>\n",
       "      <td>0</td>\n",
       "      <td>0</td>\n",
       "      <td>0</td>\n",
       "      <td>0</td>\n",
       "      <td>0</td>\n",
       "      <td>1</td>\n",
       "      <td>0</td>\n",
       "      <td>1</td>\n",
       "      <td>0</td>\n",
       "      <td>0</td>\n",
       "      <td>0</td>\n",
       "      <td>0</td>\n",
       "      <td>0</td>\n",
       "      <td>0</td>\n",
       "      <td>0</td>\n",
       "      <td>0</td>\n",
       "      <td>0</td>\n",
       "      <td>0</td>\n",
       "      <td>0</td>\n",
       "      <td>0</td>\n",
       "      <td>0</td>\n",
       "      <td>1</td>\n",
       "      <td>0</td>\n",
       "      <td>0</td>\n",
       "      <td>0</td>\n",
       "      <td>0</td>\n",
       "      <td>0</td>\n",
       "      <td>0</td>\n",
       "      <td>0</td>\n",
       "      <td>0</td>\n",
       "      <td>0</td>\n",
       "      <td>0</td>\n",
       "      <td>0</td>\n",
       "      <td>0</td>\n",
       "      <td>0</td>\n",
       "      <td>0</td>\n",
       "      <td>1</td>\n",
       "      <td>0</td>\n",
       "    </tr>\n",
       "    <tr>\n",
       "      <th>2</th>\n",
       "      <td>2007</td>\n",
       "      <td>7000</td>\n",
       "      <td>0</td>\n",
       "      <td>0</td>\n",
       "      <td>0</td>\n",
       "      <td>0</td>\n",
       "      <td>0</td>\n",
       "      <td>0</td>\n",
       "      <td>0</td>\n",
       "      <td>0</td>\n",
       "      <td>0</td>\n",
       "      <td>0</td>\n",
       "      <td>0</td>\n",
       "      <td>0</td>\n",
       "      <td>0</td>\n",
       "      <td>0</td>\n",
       "      <td>0</td>\n",
       "      <td>0</td>\n",
       "      <td>0</td>\n",
       "      <td>0</td>\n",
       "      <td>0</td>\n",
       "      <td>0</td>\n",
       "      <td>0</td>\n",
       "      <td>0</td>\n",
       "      <td>0</td>\n",
       "      <td>0</td>\n",
       "      <td>0</td>\n",
       "      <td>0</td>\n",
       "      <td>0</td>\n",
       "      <td>0</td>\n",
       "      <td>0</td>\n",
       "      <td>0</td>\n",
       "      <td>0</td>\n",
       "      <td>0</td>\n",
       "      <td>0</td>\n",
       "      <td>1</td>\n",
       "      <td>0</td>\n",
       "      <td>0</td>\n",
       "      <td>0</td>\n",
       "      <td>0</td>\n",
       "      <td>...</td>\n",
       "      <td>0</td>\n",
       "      <td>1</td>\n",
       "      <td>0</td>\n",
       "      <td>0</td>\n",
       "      <td>0</td>\n",
       "      <td>0</td>\n",
       "      <td>0</td>\n",
       "      <td>1</td>\n",
       "      <td>0</td>\n",
       "      <td>0</td>\n",
       "      <td>1</td>\n",
       "      <td>0</td>\n",
       "      <td>1</td>\n",
       "      <td>0</td>\n",
       "      <td>0</td>\n",
       "      <td>0</td>\n",
       "      <td>0</td>\n",
       "      <td>0</td>\n",
       "      <td>1</td>\n",
       "      <td>0</td>\n",
       "      <td>0</td>\n",
       "      <td>0</td>\n",
       "      <td>0</td>\n",
       "      <td>0</td>\n",
       "      <td>0</td>\n",
       "      <td>0</td>\n",
       "      <td>0</td>\n",
       "      <td>0</td>\n",
       "      <td>0</td>\n",
       "      <td>0</td>\n",
       "      <td>0</td>\n",
       "      <td>0</td>\n",
       "      <td>0</td>\n",
       "      <td>0</td>\n",
       "      <td>0</td>\n",
       "      <td>0</td>\n",
       "      <td>1</td>\n",
       "      <td>0</td>\n",
       "      <td>0</td>\n",
       "      <td>0</td>\n",
       "    </tr>\n",
       "  </tbody>\n",
       "</table>\n",
       "<p>3 rows × 100 columns</p>\n",
       "</div>"
      ],
      "text/plain": [
       "   year  price  acura  alfa-romeo  ...  red  silver  white  yellow\n",
       "0  2009   9000      0           0  ...    0       0      1       0\n",
       "1  2002   6000      0           0  ...    0       0      1       0\n",
       "2  2007   7000      0           0  ...    1       0      0       0\n",
       "\n",
       "[3 rows x 100 columns]"
      ]
     },
     "execution_count": 9,
     "metadata": {
      "tags": []
     },
     "output_type": "execute_result"
    }
   ],
   "source": [
    "df= cars.copy()\n",
    "for col in categoricas:\n",
    "    df = pd.concat([df, (pd.get_dummies(df[col])).astype(int)], axis=1)\n",
    "    df.drop(columns=[col],inplace=True)\n",
    "#Al crear las variables dummies se crean varias columnas referentes a categorias\n",
    "# 'other' que no aportan ningún valor al dataset por lo cual las eliminamos\n",
    "df.drop('other', axis=1, inplace=True)\n",
    "print(df.shape)\n",
    "df.head(3)"
   ]
  },
  {
   "cell_type": "code",
   "execution_count": 10,
   "metadata": {
    "colab": {
     "base_uri": "https://localhost:8080/",
     "height": 68
    },
    "id": "5Iesa56hVz8s",
    "outputId": "7ece6f52-e24c-4c20-93a5-ba8b4268006f"
   },
   "outputs": [
    {
     "name": "stdout",
     "output_type": "stream",
     "text": [
      "Tipos de variables 0\n",
      "int64    100\n",
      "dtype: int64\n"
     ]
    }
   ],
   "source": [
    "types = pd.DataFrame(df.dtypes)\n",
    "print(\"Tipos de variables\",types.groupby(0).size())"
   ]
  },
  {
   "cell_type": "code",
   "execution_count": 11,
   "metadata": {
    "colab": {
     "base_uri": "https://localhost:8080/",
     "height": 208
    },
    "id": "d-Isxxj2wzPX",
    "outputId": "3396f906-287d-46d8-8656-afacd029b81a"
   },
   "outputs": [
    {
     "data": {
      "text/html": [
       "<div>\n",
       "<style scoped>\n",
       "    .dataframe tbody tr th:only-of-type {\n",
       "        vertical-align: middle;\n",
       "    }\n",
       "\n",
       "    .dataframe tbody tr th {\n",
       "        vertical-align: top;\n",
       "    }\n",
       "\n",
       "    .dataframe thead th {\n",
       "        text-align: right;\n",
       "    }\n",
       "</style>\n",
       "<table border=\"1\" class=\"dataframe\">\n",
       "  <thead>\n",
       "    <tr style=\"text-align: right;\">\n",
       "      <th></th>\n",
       "      <th>6 cylinders</th>\n",
       "      <th>datsun</th>\n",
       "      <th>hybrid</th>\n",
       "      <th>10 cylinders</th>\n",
       "      <th>jaguar</th>\n",
       "      <th>bmw</th>\n",
       "      <th>gmc</th>\n",
       "      <th>convertible</th>\n",
       "      <th>hyundai</th>\n",
       "      <th>mercedes-benz</th>\n",
       "      <th>green</th>\n",
       "      <th>red</th>\n",
       "      <th>12 cylinders</th>\n",
       "      <th>hatchback</th>\n",
       "      <th>acura</th>\n",
       "      <th>rwd</th>\n",
       "      <th>pickup</th>\n",
       "      <th>alfa-romeo</th>\n",
       "      <th>parts only</th>\n",
       "      <th>rover</th>\n",
       "      <th>land rover</th>\n",
       "      <th>electric</th>\n",
       "      <th>kia</th>\n",
       "      <th>full-size</th>\n",
       "      <th>van</th>\n",
       "      <th>volvo</th>\n",
       "      <th>subaru</th>\n",
       "      <th>toyota</th>\n",
       "      <th>clean</th>\n",
       "      <th>sedan</th>\n",
       "      <th>compact</th>\n",
       "      <th>mercury</th>\n",
       "      <th>excellent</th>\n",
       "      <th>ford</th>\n",
       "      <th>audi</th>\n",
       "      <th>good</th>\n",
       "      <th>honda</th>\n",
       "      <th>cadillac</th>\n",
       "      <th>morgan</th>\n",
       "      <th>4 cylinders</th>\n",
       "      <th>...</th>\n",
       "      <th>new</th>\n",
       "      <th>lexus</th>\n",
       "      <th>lincoln</th>\n",
       "      <th>aston-martin</th>\n",
       "      <th>4wd</th>\n",
       "      <th>automatic</th>\n",
       "      <th>sub-compact</th>\n",
       "      <th>porche</th>\n",
       "      <th>gas</th>\n",
       "      <th>coupe</th>\n",
       "      <th>3 cylinders</th>\n",
       "      <th>offroad</th>\n",
       "      <th>nissan</th>\n",
       "      <th>8 cylinders</th>\n",
       "      <th>bus</th>\n",
       "      <th>SUV</th>\n",
       "      <th>wagon</th>\n",
       "      <th>fair</th>\n",
       "      <th>fwd</th>\n",
       "      <th>custom</th>\n",
       "      <th>saturn</th>\n",
       "      <th>harley-davidson</th>\n",
       "      <th>buick</th>\n",
       "      <th>chevrolet</th>\n",
       "      <th>infiniti</th>\n",
       "      <th>diesel</th>\n",
       "      <th>hennessey</th>\n",
       "      <th>manual</th>\n",
       "      <th>rebuilt</th>\n",
       "      <th>orange</th>\n",
       "      <th>jeep</th>\n",
       "      <th>ferrari</th>\n",
       "      <th>dodge</th>\n",
       "      <th>volkswagen</th>\n",
       "      <th>fiat</th>\n",
       "      <th>mitsubishi</th>\n",
       "      <th>year</th>\n",
       "      <th>salvage</th>\n",
       "      <th>salvage</th>\n",
       "      <th>pontiac</th>\n",
       "    </tr>\n",
       "  </thead>\n",
       "  <tbody>\n",
       "    <tr>\n",
       "      <th>0</th>\n",
       "      <td>0</td>\n",
       "      <td>0</td>\n",
       "      <td>0</td>\n",
       "      <td>0</td>\n",
       "      <td>0</td>\n",
       "      <td>0</td>\n",
       "      <td>0</td>\n",
       "      <td>0</td>\n",
       "      <td>0</td>\n",
       "      <td>0</td>\n",
       "      <td>0</td>\n",
       "      <td>0</td>\n",
       "      <td>0</td>\n",
       "      <td>0</td>\n",
       "      <td>0</td>\n",
       "      <td>1</td>\n",
       "      <td>0</td>\n",
       "      <td>0</td>\n",
       "      <td>0</td>\n",
       "      <td>0</td>\n",
       "      <td>0</td>\n",
       "      <td>0</td>\n",
       "      <td>0</td>\n",
       "      <td>1</td>\n",
       "      <td>0</td>\n",
       "      <td>0</td>\n",
       "      <td>0</td>\n",
       "      <td>0</td>\n",
       "      <td>1</td>\n",
       "      <td>0</td>\n",
       "      <td>0</td>\n",
       "      <td>0</td>\n",
       "      <td>0</td>\n",
       "      <td>0</td>\n",
       "      <td>0</td>\n",
       "      <td>1</td>\n",
       "      <td>0</td>\n",
       "      <td>0</td>\n",
       "      <td>0</td>\n",
       "      <td>0</td>\n",
       "      <td>...</td>\n",
       "      <td>0</td>\n",
       "      <td>0</td>\n",
       "      <td>0</td>\n",
       "      <td>0</td>\n",
       "      <td>0</td>\n",
       "      <td>1</td>\n",
       "      <td>0</td>\n",
       "      <td>0</td>\n",
       "      <td>1</td>\n",
       "      <td>0</td>\n",
       "      <td>0</td>\n",
       "      <td>0</td>\n",
       "      <td>0</td>\n",
       "      <td>1</td>\n",
       "      <td>0</td>\n",
       "      <td>1</td>\n",
       "      <td>0</td>\n",
       "      <td>0</td>\n",
       "      <td>0</td>\n",
       "      <td>0</td>\n",
       "      <td>0</td>\n",
       "      <td>0</td>\n",
       "      <td>0</td>\n",
       "      <td>1</td>\n",
       "      <td>0</td>\n",
       "      <td>0</td>\n",
       "      <td>0</td>\n",
       "      <td>0</td>\n",
       "      <td>0</td>\n",
       "      <td>0</td>\n",
       "      <td>0</td>\n",
       "      <td>0</td>\n",
       "      <td>0</td>\n",
       "      <td>0</td>\n",
       "      <td>0</td>\n",
       "      <td>0</td>\n",
       "      <td>2009</td>\n",
       "      <td>0</td>\n",
       "      <td>0</td>\n",
       "      <td>0</td>\n",
       "    </tr>\n",
       "    <tr>\n",
       "      <th>1</th>\n",
       "      <td>0</td>\n",
       "      <td>0</td>\n",
       "      <td>0</td>\n",
       "      <td>0</td>\n",
       "      <td>0</td>\n",
       "      <td>0</td>\n",
       "      <td>1</td>\n",
       "      <td>0</td>\n",
       "      <td>0</td>\n",
       "      <td>0</td>\n",
       "      <td>0</td>\n",
       "      <td>0</td>\n",
       "      <td>0</td>\n",
       "      <td>0</td>\n",
       "      <td>0</td>\n",
       "      <td>0</td>\n",
       "      <td>1</td>\n",
       "      <td>0</td>\n",
       "      <td>0</td>\n",
       "      <td>0</td>\n",
       "      <td>0</td>\n",
       "      <td>0</td>\n",
       "      <td>0</td>\n",
       "      <td>0</td>\n",
       "      <td>0</td>\n",
       "      <td>0</td>\n",
       "      <td>0</td>\n",
       "      <td>0</td>\n",
       "      <td>1</td>\n",
       "      <td>0</td>\n",
       "      <td>0</td>\n",
       "      <td>0</td>\n",
       "      <td>0</td>\n",
       "      <td>0</td>\n",
       "      <td>0</td>\n",
       "      <td>1</td>\n",
       "      <td>0</td>\n",
       "      <td>0</td>\n",
       "      <td>0</td>\n",
       "      <td>0</td>\n",
       "      <td>...</td>\n",
       "      <td>0</td>\n",
       "      <td>0</td>\n",
       "      <td>0</td>\n",
       "      <td>0</td>\n",
       "      <td>1</td>\n",
       "      <td>1</td>\n",
       "      <td>0</td>\n",
       "      <td>0</td>\n",
       "      <td>1</td>\n",
       "      <td>0</td>\n",
       "      <td>0</td>\n",
       "      <td>0</td>\n",
       "      <td>0</td>\n",
       "      <td>1</td>\n",
       "      <td>0</td>\n",
       "      <td>0</td>\n",
       "      <td>0</td>\n",
       "      <td>0</td>\n",
       "      <td>0</td>\n",
       "      <td>0</td>\n",
       "      <td>0</td>\n",
       "      <td>0</td>\n",
       "      <td>0</td>\n",
       "      <td>0</td>\n",
       "      <td>0</td>\n",
       "      <td>0</td>\n",
       "      <td>0</td>\n",
       "      <td>0</td>\n",
       "      <td>0</td>\n",
       "      <td>0</td>\n",
       "      <td>0</td>\n",
       "      <td>0</td>\n",
       "      <td>0</td>\n",
       "      <td>0</td>\n",
       "      <td>0</td>\n",
       "      <td>0</td>\n",
       "      <td>2002</td>\n",
       "      <td>0</td>\n",
       "      <td>0</td>\n",
       "      <td>0</td>\n",
       "    </tr>\n",
       "    <tr>\n",
       "      <th>2</th>\n",
       "      <td>0</td>\n",
       "      <td>0</td>\n",
       "      <td>0</td>\n",
       "      <td>0</td>\n",
       "      <td>0</td>\n",
       "      <td>0</td>\n",
       "      <td>0</td>\n",
       "      <td>1</td>\n",
       "      <td>0</td>\n",
       "      <td>0</td>\n",
       "      <td>0</td>\n",
       "      <td>1</td>\n",
       "      <td>0</td>\n",
       "      <td>0</td>\n",
       "      <td>0</td>\n",
       "      <td>0</td>\n",
       "      <td>0</td>\n",
       "      <td>0</td>\n",
       "      <td>0</td>\n",
       "      <td>0</td>\n",
       "      <td>0</td>\n",
       "      <td>0</td>\n",
       "      <td>0</td>\n",
       "      <td>0</td>\n",
       "      <td>0</td>\n",
       "      <td>0</td>\n",
       "      <td>0</td>\n",
       "      <td>0</td>\n",
       "      <td>1</td>\n",
       "      <td>0</td>\n",
       "      <td>1</td>\n",
       "      <td>0</td>\n",
       "      <td>1</td>\n",
       "      <td>0</td>\n",
       "      <td>0</td>\n",
       "      <td>0</td>\n",
       "      <td>0</td>\n",
       "      <td>0</td>\n",
       "      <td>0</td>\n",
       "      <td>1</td>\n",
       "      <td>...</td>\n",
       "      <td>0</td>\n",
       "      <td>0</td>\n",
       "      <td>0</td>\n",
       "      <td>0</td>\n",
       "      <td>0</td>\n",
       "      <td>1</td>\n",
       "      <td>0</td>\n",
       "      <td>0</td>\n",
       "      <td>1</td>\n",
       "      <td>0</td>\n",
       "      <td>0</td>\n",
       "      <td>0</td>\n",
       "      <td>0</td>\n",
       "      <td>0</td>\n",
       "      <td>0</td>\n",
       "      <td>0</td>\n",
       "      <td>0</td>\n",
       "      <td>0</td>\n",
       "      <td>1</td>\n",
       "      <td>0</td>\n",
       "      <td>0</td>\n",
       "      <td>0</td>\n",
       "      <td>0</td>\n",
       "      <td>0</td>\n",
       "      <td>0</td>\n",
       "      <td>0</td>\n",
       "      <td>0</td>\n",
       "      <td>0</td>\n",
       "      <td>0</td>\n",
       "      <td>0</td>\n",
       "      <td>0</td>\n",
       "      <td>0</td>\n",
       "      <td>0</td>\n",
       "      <td>0</td>\n",
       "      <td>0</td>\n",
       "      <td>0</td>\n",
       "      <td>2007</td>\n",
       "      <td>0</td>\n",
       "      <td>0</td>\n",
       "      <td>1</td>\n",
       "    </tr>\n",
       "  </tbody>\n",
       "</table>\n",
       "<p>3 rows × 99 columns</p>\n",
       "</div>"
      ],
      "text/plain": [
       "   6 cylinders  datsun  hybrid  10 cylinders  ...  year  salvage  salvage  pontiac\n",
       "0            0       0       0             0  ...  2009        0        0        0\n",
       "1            0       0       0             0  ...  2002        0        0        0\n",
       "2            0       0       0             0  ...  2007        0        0        1\n",
       "\n",
       "[3 rows x 99 columns]"
      ]
     },
     "execution_count": 11,
     "metadata": {
      "tags": []
     },
     "output_type": "execute_result"
    }
   ],
   "source": [
    "numeric_columns = list(set(types.index[types[0] ==\"int64\"].values) - set([\"price\"]))\n",
    "variables_consolidadas = df[numeric_columns]\n",
    "objetivo = df[\"price\"] #Variable objetivo de nuestra regresion.\n",
    "\n",
    "variables_consolidadas.head(3)"
   ]
  },
  {
   "cell_type": "markdown",
   "metadata": {
    "id": "mOP0z86EKrly"
   },
   "source": [
    "# 3. Separa el set de datos consolidados en 3 sets (entrenamiento, prueba y validación) de acuerdo con las recomendaciones vistas en el curso."
   ]
  },
  {
   "cell_type": "code",
   "execution_count": 12,
   "metadata": {
    "id": "Jug8ZISZQQ0X"
   },
   "outputs": [],
   "source": [
    "#Coloca tu código aquí\n",
    "from sklearn.model_selection import train_test_split\n",
    "\n",
    "#80% train 20% test\n",
    "x_train,x_test, y_train,y_test = train_test_split(variables_consolidadas,objetivo,test_size=0.2, random_state=2020)"
   ]
  },
  {
   "cell_type": "code",
   "execution_count": 13,
   "metadata": {
    "id": "IzWNixQ6ItBR"
   },
   "outputs": [],
   "source": [
    "#90% train 10% val\n",
    "x_train,x_val, y_train,y_val = train_test_split(x_train,y_train,test_size=0.1, random_state=2020)"
   ]
  },
  {
   "cell_type": "code",
   "execution_count": 14,
   "metadata": {
    "id": "rWpp1VekItJi"
   },
   "outputs": [],
   "source": [
    "y_train=y_train.values.reshape(-1,1)\n",
    "y_test=y_test.values.reshape(-1,1)\n",
    "y_val=y_val.values.reshape(-1,1)"
   ]
  },
  {
   "cell_type": "code",
   "execution_count": 15,
   "metadata": {
    "colab": {
     "base_uri": "https://localhost:8080/",
     "height": 119
    },
    "id": "nNaA2I2YItNJ",
    "outputId": "67cb9f31-3fbf-4b42-bb85-3d5ff8483576"
   },
   "outputs": [
    {
     "name": "stdout",
     "output_type": "stream",
     "text": [
      "Shape of x_train: (312869, 99)\n",
      "Shape of x_test: (86909, 99)\n",
      "Shape of x_val: (34764, 99)\n",
      "Shape of y_train: (312869, 1)\n",
      "Shape of y_test: (86909, 1)\n",
      "Shape of y_val: (34764, 1)\n"
     ]
    }
   ],
   "source": [
    "print(\"Shape of x_train:\",x_train.shape)\n",
    "print(\"Shape of x_test:\",x_test.shape)\n",
    "print(\"Shape of x_val:\",x_val.shape)\n",
    "print(\"Shape of y_train:\",y_train.shape)\n",
    "print(\"Shape of y_test:\",y_test.shape)\n",
    "print(\"Shape of y_val:\",y_val.shape)"
   ]
  },
  {
   "cell_type": "code",
   "execution_count": null,
   "metadata": {
    "id": "ec-WpvcnItVq"
   },
   "outputs": [],
   "source": []
  },
  {
   "cell_type": "markdown",
   "metadata": {
    "id": "APBt-AAfNBQj"
   },
   "source": [
    "<h1 id=\"arquitectura\">Diseño, Entrenamiento y Evaluación de la RN</h1>\n",
    "\n",
    "Una vez consolidado los sets de información de entrenamiento, validacion y pruebas ya podemos iniciar a modelar nuestra red neuronal con las siguientes consideraciones:\n",
    "* Realiza la prueba con un par de arquitecturas iniciales.\n",
    "* Evalua el desempeño de la red.\n",
    "* Si el desempeño es bajo vuelve a la información y prueba estrategias de estandarización de la información."
   ]
  },
  {
   "cell_type": "markdown",
   "metadata": {
    "id": "528iJ6fQ86ds"
   },
   "source": [
    "# 4. Implementa una red neuronal cuyas pérdidas (MSE) con el set de prueba sea menor a 0.40."
   ]
  },
  {
   "cell_type": "code",
   "execution_count": 16,
   "metadata": {
    "id": "Y6TWVkxGmcIB"
   },
   "outputs": [],
   "source": [
    "#Coloca tu código aquí\n",
    "from sklearn.preprocessing import StandardScaler\n",
    "scaler = StandardScaler()\n",
    "scaler.fit(x_train)\n",
    "x_train_scaled = scaler.transform(x_train)\n",
    "x_val_scaled = scaler.transform(x_val)\n",
    "x_test_scaled = scaler.transform(x_test)\n",
    "\n",
    "scaler1 = StandardScaler()\n",
    "scaler1.fit(y_train)\n",
    "y_train_scaled = scaler1.transform(y_train)\n",
    "y_val_scaled = scaler1.transform(y_val)\n",
    "y_test_scaled = scaler1.transform(y_test)"
   ]
  },
  {
   "cell_type": "code",
   "execution_count": 17,
   "metadata": {
    "colab": {
     "base_uri": "https://localhost:8080/",
     "height": 340
    },
    "id": "5WORHuhPQmKX",
    "outputId": "73356a77-55e9-4bdc-f3c4-b3d72ea1013b"
   },
   "outputs": [
    {
     "name": "stdout",
     "output_type": "stream",
     "text": [
      "Model: \"sequential\"\n",
      "_________________________________________________________________\n",
      "Layer (type)                 Output Shape              Param #   \n",
      "=================================================================\n",
      "dense (Dense)                (None, 256)               25600     \n",
      "_________________________________________________________________\n",
      "dense_1 (Dense)              (None, 128)               32896     \n",
      "_________________________________________________________________\n",
      "dense_2 (Dense)              (None, 128)               16512     \n",
      "_________________________________________________________________\n",
      "dropout (Dropout)            (None, 128)               0         \n",
      "_________________________________________________________________\n",
      "dense_3 (Dense)              (None, 1)                 129       \n",
      "=================================================================\n",
      "Total params: 75,137\n",
      "Trainable params: 75,137\n",
      "Non-trainable params: 0\n",
      "_________________________________________________________________\n",
      "None\n"
     ]
    }
   ],
   "source": [
    "#Coloca tu código aquí\n",
    "from keras.models import Sequential\n",
    "from keras.layers import Dense, Dropout\n",
    "from keras.utils import plot_model\n",
    "\n",
    "model = Sequential()\n",
    "model.add(Dense(256,input_dim = x_train.shape[1],activation=\"relu\"))\n",
    "model.add(Dense(128,activation=\"relu\"))\n",
    "model.add(Dense(128,activation=\"relu\"))\n",
    "model.add(Dropout(0.2))\n",
    "model.add(Dense(1,activation = \"linear\")) \n",
    "model.compile(optimizer = \"adam\",loss=\"mse\",metrics=[\"mean_absolute_error\"])\n",
    "\n",
    "print(model.summary())"
   ]
  },
  {
   "cell_type": "code",
   "execution_count": 18,
   "metadata": {
    "colab": {
     "base_uri": "https://localhost:8080/",
     "height": 1000
    },
    "id": "H-y9uDZh_gxS",
    "outputId": "1faf6f2b-c3ca-4b1e-d144-abd2988050ff"
   },
   "outputs": [
    {
     "name": "stdout",
     "output_type": "stream",
     "text": [
      "Epoch 1/50\n",
      "306/306 [==============================] - 1s 4ms/step - loss: 0.5449 - mean_absolute_error: 0.5102 - val_loss: 0.5146 - val_mean_absolute_error: 0.4544\n",
      "Epoch 2/50\n",
      "306/306 [==============================] - 1s 3ms/step - loss: 0.4760 - mean_absolute_error: 0.4556 - val_loss: 0.4894 - val_mean_absolute_error: 0.4396\n",
      "Epoch 3/50\n",
      "306/306 [==============================] - 1s 3ms/step - loss: 0.4437 - mean_absolute_error: 0.4415 - val_loss: 0.4610 - val_mean_absolute_error: 0.4310\n",
      "Epoch 4/50\n",
      "306/306 [==============================] - 1s 3ms/step - loss: 0.4557 - mean_absolute_error: 0.4367 - val_loss: 0.4323 - val_mean_absolute_error: 0.4289\n",
      "Epoch 5/50\n",
      "306/306 [==============================] - 1s 3ms/step - loss: 0.4256 - mean_absolute_error: 0.4296 - val_loss: 0.4481 - val_mean_absolute_error: 0.4274\n",
      "Epoch 6/50\n",
      "306/306 [==============================] - 1s 3ms/step - loss: 0.4172 - mean_absolute_error: 0.4254 - val_loss: 0.4946 - val_mean_absolute_error: 0.4249\n",
      "Epoch 7/50\n",
      "306/306 [==============================] - 1s 3ms/step - loss: 0.4281 - mean_absolute_error: 0.4225 - val_loss: 0.5947 - val_mean_absolute_error: 0.4273\n",
      "Epoch 8/50\n",
      "306/306 [==============================] - 1s 3ms/step - loss: 0.4355 - mean_absolute_error: 0.4212 - val_loss: 0.4121 - val_mean_absolute_error: 0.4184\n",
      "Epoch 9/50\n",
      "306/306 [==============================] - 1s 3ms/step - loss: 0.3963 - mean_absolute_error: 0.4148 - val_loss: 0.4117 - val_mean_absolute_error: 0.4186\n",
      "Epoch 10/50\n",
      "306/306 [==============================] - 1s 3ms/step - loss: 0.3897 - mean_absolute_error: 0.4110 - val_loss: 0.4484 - val_mean_absolute_error: 0.4101\n",
      "Epoch 11/50\n",
      "306/306 [==============================] - 1s 3ms/step - loss: 0.3893 - mean_absolute_error: 0.4080 - val_loss: 0.4005 - val_mean_absolute_error: 0.4101\n",
      "Epoch 12/50\n",
      "306/306 [==============================] - 1s 3ms/step - loss: 0.3817 - mean_absolute_error: 0.4055 - val_loss: 0.3990 - val_mean_absolute_error: 0.4100\n",
      "Epoch 13/50\n",
      "306/306 [==============================] - 1s 3ms/step - loss: 0.3753 - mean_absolute_error: 0.4031 - val_loss: 0.3924 - val_mean_absolute_error: 0.4096\n",
      "Epoch 14/50\n",
      "306/306 [==============================] - 1s 3ms/step - loss: 0.3708 - mean_absolute_error: 0.4007 - val_loss: 0.3909 - val_mean_absolute_error: 0.4055\n",
      "Epoch 15/50\n",
      "306/306 [==============================] - 1s 3ms/step - loss: 0.3674 - mean_absolute_error: 0.3983 - val_loss: 0.3884 - val_mean_absolute_error: 0.4063\n",
      "Epoch 16/50\n",
      "306/306 [==============================] - 1s 3ms/step - loss: 0.3639 - mean_absolute_error: 0.3963 - val_loss: 0.3880 - val_mean_absolute_error: 0.4039\n",
      "Epoch 17/50\n",
      "306/306 [==============================] - 1s 3ms/step - loss: 0.3609 - mean_absolute_error: 0.3948 - val_loss: 0.3886 - val_mean_absolute_error: 0.4075\n",
      "Epoch 18/50\n",
      "306/306 [==============================] - 1s 3ms/step - loss: 0.3582 - mean_absolute_error: 0.3935 - val_loss: 0.3843 - val_mean_absolute_error: 0.4036\n",
      "Epoch 19/50\n",
      "306/306 [==============================] - 1s 3ms/step - loss: 0.3550 - mean_absolute_error: 0.3917 - val_loss: 0.3854 - val_mean_absolute_error: 0.4001\n",
      "Epoch 20/50\n",
      "306/306 [==============================] - 1s 3ms/step - loss: 0.3518 - mean_absolute_error: 0.3898 - val_loss: 0.3821 - val_mean_absolute_error: 0.4019\n",
      "Epoch 21/50\n",
      "306/306 [==============================] - 1s 3ms/step - loss: 0.3500 - mean_absolute_error: 0.3888 - val_loss: 0.3865 - val_mean_absolute_error: 0.4059\n",
      "Epoch 22/50\n",
      "306/306 [==============================] - 1s 3ms/step - loss: 0.3464 - mean_absolute_error: 0.3868 - val_loss: 0.3848 - val_mean_absolute_error: 0.3993\n",
      "Epoch 23/50\n",
      "306/306 [==============================] - 1s 3ms/step - loss: 0.3449 - mean_absolute_error: 0.3858 - val_loss: 0.3850 - val_mean_absolute_error: 0.3998\n",
      "Epoch 24/50\n",
      "306/306 [==============================] - 1s 3ms/step - loss: 0.3416 - mean_absolute_error: 0.3841 - val_loss: 0.3816 - val_mean_absolute_error: 0.4023\n",
      "Epoch 25/50\n",
      "306/306 [==============================] - 1s 3ms/step - loss: 0.3405 - mean_absolute_error: 0.3836 - val_loss: 0.3854 - val_mean_absolute_error: 0.3991\n",
      "Epoch 26/50\n",
      "306/306 [==============================] - 1s 3ms/step - loss: 0.3390 - mean_absolute_error: 0.3823 - val_loss: 0.3795 - val_mean_absolute_error: 0.3990\n",
      "Epoch 27/50\n",
      "306/306 [==============================] - 1s 3ms/step - loss: 0.3365 - mean_absolute_error: 0.3809 - val_loss: 0.3807 - val_mean_absolute_error: 0.4005\n",
      "Epoch 28/50\n",
      "306/306 [==============================] - 1s 3ms/step - loss: 0.3344 - mean_absolute_error: 0.3795 - val_loss: 0.3831 - val_mean_absolute_error: 0.3981\n",
      "Epoch 29/50\n",
      "306/306 [==============================] - 1s 3ms/step - loss: 0.3319 - mean_absolute_error: 0.3783 - val_loss: 0.3776 - val_mean_absolute_error: 0.3940\n",
      "Epoch 30/50\n",
      "306/306 [==============================] - 1s 3ms/step - loss: 0.3295 - mean_absolute_error: 0.3772 - val_loss: 0.3807 - val_mean_absolute_error: 0.4007\n",
      "Epoch 31/50\n",
      "306/306 [==============================] - 1s 3ms/step - loss: 0.3279 - mean_absolute_error: 0.3762 - val_loss: 0.3756 - val_mean_absolute_error: 0.3937\n",
      "Epoch 32/50\n",
      "306/306 [==============================] - 1s 3ms/step - loss: 0.3263 - mean_absolute_error: 0.3753 - val_loss: 0.3778 - val_mean_absolute_error: 0.3986\n",
      "Epoch 33/50\n",
      "306/306 [==============================] - 1s 3ms/step - loss: 0.3253 - mean_absolute_error: 0.3748 - val_loss: 0.3794 - val_mean_absolute_error: 0.3967\n",
      "Epoch 34/50\n",
      "306/306 [==============================] - 1s 3ms/step - loss: 0.3232 - mean_absolute_error: 0.3732 - val_loss: 0.3778 - val_mean_absolute_error: 0.3953\n",
      "Epoch 35/50\n",
      "306/306 [==============================] - 1s 3ms/step - loss: 0.3217 - mean_absolute_error: 0.3722 - val_loss: 0.3774 - val_mean_absolute_error: 0.3946\n",
      "Epoch 36/50\n",
      "306/306 [==============================] - 1s 3ms/step - loss: 0.3199 - mean_absolute_error: 0.3711 - val_loss: 0.3805 - val_mean_absolute_error: 0.4010\n",
      "Epoch 37/50\n",
      "306/306 [==============================] - 1s 3ms/step - loss: 0.3184 - mean_absolute_error: 0.3705 - val_loss: 0.3757 - val_mean_absolute_error: 0.3916\n",
      "Epoch 38/50\n",
      "306/306 [==============================] - 1s 3ms/step - loss: 0.3182 - mean_absolute_error: 0.3701 - val_loss: 0.3743 - val_mean_absolute_error: 0.3945\n",
      "Epoch 39/50\n",
      "306/306 [==============================] - 1s 3ms/step - loss: 0.3159 - mean_absolute_error: 0.3689 - val_loss: 0.3767 - val_mean_absolute_error: 0.3927\n",
      "Epoch 40/50\n",
      "306/306 [==============================] - 1s 3ms/step - loss: 0.3158 - mean_absolute_error: 0.3689 - val_loss: 0.3774 - val_mean_absolute_error: 0.3954\n",
      "Epoch 41/50\n",
      "306/306 [==============================] - 1s 3ms/step - loss: 0.3139 - mean_absolute_error: 0.3679 - val_loss: 0.3765 - val_mean_absolute_error: 0.3926\n",
      "Epoch 42/50\n",
      "306/306 [==============================] - 1s 3ms/step - loss: 0.3117 - mean_absolute_error: 0.3661 - val_loss: 0.3769 - val_mean_absolute_error: 0.3937\n",
      "Epoch 43/50\n",
      "306/306 [==============================] - 1s 3ms/step - loss: 0.3115 - mean_absolute_error: 0.3661 - val_loss: 0.3749 - val_mean_absolute_error: 0.3910\n",
      "Epoch 44/50\n",
      "306/306 [==============================] - 1s 3ms/step - loss: 0.3108 - mean_absolute_error: 0.3657 - val_loss: 0.3751 - val_mean_absolute_error: 0.3940\n",
      "Epoch 45/50\n",
      "306/306 [==============================] - 1s 3ms/step - loss: 0.3107 - mean_absolute_error: 0.3653 - val_loss: 0.5102 - val_mean_absolute_error: 0.4031\n",
      "Epoch 46/50\n",
      "306/306 [==============================] - 1s 3ms/step - loss: 0.3188 - mean_absolute_error: 0.3668 - val_loss: 0.8833 - val_mean_absolute_error: 0.3959\n",
      "Epoch 47/50\n",
      "306/306 [==============================] - 1s 3ms/step - loss: 0.3708 - mean_absolute_error: 0.3648 - val_loss: 0.4261 - val_mean_absolute_error: 0.3986\n",
      "Epoch 48/50\n",
      "306/306 [==============================] - 1s 3ms/step - loss: 0.3148 - mean_absolute_error: 0.3667 - val_loss: 0.5084 - val_mean_absolute_error: 0.3971\n",
      "Epoch 49/50\n",
      "306/306 [==============================] - 1s 3ms/step - loss: 0.3275 - mean_absolute_error: 0.3664 - val_loss: 0.3730 - val_mean_absolute_error: 0.3882\n",
      "Epoch 50/50\n",
      "306/306 [==============================] - 1s 3ms/step - loss: 0.3050 - mean_absolute_error: 0.3620 - val_loss: 0.3733 - val_mean_absolute_error: 0.3889\n"
     ]
    },
    {
     "data": {
      "text/plain": [
       "<tensorflow.python.keras.callbacks.History at 0x7f7f877777f0>"
      ]
     },
     "execution_count": 18,
     "metadata": {
      "tags": []
     },
     "output_type": "execute_result"
    }
   ],
   "source": [
    "model.fit(x_train_scaled,y_train_scaled, validation_data = (x_val_scaled,y_val_scaled),epochs=50, batch_size=1024)"
   ]
  },
  {
   "cell_type": "markdown",
   "metadata": {
    "id": "ubDSL59pCcBg"
   },
   "source": [
    "Ahora realiza la evaluación del modelo con el set de entrenamiento."
   ]
  },
  {
   "cell_type": "code",
   "execution_count": 19,
   "metadata": {
    "colab": {
     "base_uri": "https://localhost:8080/",
     "height": 68
    },
    "id": "B6C_XX0dRHxR",
    "outputId": "4040b85f-8f2f-48d7-b35d-57ec73ed49ec"
   },
   "outputs": [
    {
     "name": "stdout",
     "output_type": "stream",
     "text": [
      "2716/2716 [==============================] - 6s 2ms/step - loss: 0.3829 - mean_absolute_error: 0.3929\n",
      "Metric  loss : 0.38\n",
      "Metric  mean_absolute_error : 0.39\n"
     ]
    }
   ],
   "source": [
    "result = model.evaluate(x_test_scaled,y_test_scaled)\n",
    "for i in range(len(model.metrics_names)):\n",
    " print(\"Metric \",model.metrics_names[i],\":\",\n",
    "str(round(result[i],2)))"
   ]
  },
  {
   "cell_type": "markdown",
   "metadata": {
    "id": "owT0Fwf0_N3i"
   },
   "source": [
    "Si tu modelo cumple con el requerimiento guardalo con el siguiente comando:"
   ]
  },
  {
   "cell_type": "code",
   "execution_count": 20,
   "metadata": {
    "id": "bsuyXASg-aS0"
   },
   "outputs": [],
   "source": [
    "model.save('PrediccionPrecios.h5')"
   ]
  },
  {
   "cell_type": "markdown",
   "metadata": {
    "id": "f6Qd8SigDTs3"
   },
   "source": [
    "# 5. Realiza un gráfico que evidencia la evolución de la función de pérdidas a traves de las distintas épocas de entrenamiento."
   ]
  },
  {
   "cell_type": "code",
   "execution_count": 21,
   "metadata": {
    "colab": {
     "base_uri": "https://localhost:8080/",
     "height": 248
    },
    "id": "FigeTaWgRqow",
    "outputId": "2332345e-99aa-4748-a8c7-ae245174a5a1"
   },
   "outputs": [
    {
     "ename": "KeyError",
     "evalue": "ignored",
     "output_type": "error",
     "traceback": [
      "\u001b[0;31m---------------------------------------------------------------------------\u001b[0m",
      "\u001b[0;31mKeyError\u001b[0m                                  Traceback (most recent call last)",
      "\u001b[0;32m<ipython-input-21-7643293fd9ee>\u001b[0m in \u001b[0;36m<module>\u001b[0;34m()\u001b[0m\n\u001b[1;32m      3\u001b[0m \u001b[0mget_ipython\u001b[0m\u001b[0;34m(\u001b[0m\u001b[0;34m)\u001b[0m\u001b[0;34m.\u001b[0m\u001b[0mmagic\u001b[0m\u001b[0;34m(\u001b[0m\u001b[0;34m'matplotlib inline'\u001b[0m\u001b[0;34m)\u001b[0m\u001b[0;34m\u001b[0m\u001b[0;34m\u001b[0m\u001b[0m\n\u001b[1;32m      4\u001b[0m \u001b[0mplt\u001b[0m\u001b[0;34m.\u001b[0m\u001b[0mfigure\u001b[0m\u001b[0;34m(\u001b[0m\u001b[0mfigsize\u001b[0m\u001b[0;34m=\u001b[0m\u001b[0;34m(\u001b[0m\u001b[0;36m13\u001b[0m\u001b[0;34m,\u001b[0m\u001b[0;36m6\u001b[0m\u001b[0;34m)\u001b[0m\u001b[0;34m)\u001b[0m\u001b[0;34m\u001b[0m\u001b[0;34m\u001b[0m\u001b[0m\n\u001b[0;32m----> 5\u001b[0;31m \u001b[0mplt\u001b[0m\u001b[0;34m.\u001b[0m\u001b[0mplot\u001b[0m\u001b[0;34m(\u001b[0m\u001b[0mmodel\u001b[0m\u001b[0;34m.\u001b[0m\u001b[0mhistory\u001b[0m\u001b[0;34m.\u001b[0m\u001b[0mhistory\u001b[0m\u001b[0;34m[\u001b[0m\u001b[0;34m'loss'\u001b[0m\u001b[0;34m]\u001b[0m\u001b[0;34m)\u001b[0m\u001b[0;34m\u001b[0m\u001b[0;34m\u001b[0m\u001b[0m\n\u001b[0m\u001b[1;32m      6\u001b[0m \u001b[0mplt\u001b[0m\u001b[0;34m.\u001b[0m\u001b[0mplot\u001b[0m\u001b[0;34m(\u001b[0m\u001b[0mmodel\u001b[0m\u001b[0;34m.\u001b[0m\u001b[0mhistory\u001b[0m\u001b[0;34m.\u001b[0m\u001b[0mhistory\u001b[0m\u001b[0;34m[\u001b[0m\u001b[0;34m'val_loss'\u001b[0m\u001b[0;34m]\u001b[0m\u001b[0;34m)\u001b[0m\u001b[0;34m\u001b[0m\u001b[0;34m\u001b[0m\u001b[0m\n\u001b[1;32m      7\u001b[0m \u001b[0mplt\u001b[0m\u001b[0;34m.\u001b[0m\u001b[0mtitle\u001b[0m\u001b[0;34m(\u001b[0m\u001b[0;34m\"Pérdidas del modelo con set de entrenamiento y pruebas por época\"\u001b[0m\u001b[0;34m)\u001b[0m\u001b[0;34m\u001b[0m\u001b[0;34m\u001b[0m\u001b[0m\n",
      "\u001b[0;31mKeyError\u001b[0m: 'loss'"
     ]
    },
    {
     "data": {
      "text/plain": [
       "<Figure size 936x432 with 0 Axes>"
      ]
     },
     "metadata": {
      "tags": []
     },
     "output_type": "display_data"
    }
   ],
   "source": [
    "#Coloca tu código aquí\n",
    "import matplotlib.pyplot as plt\n",
    "%matplotlib inline\n",
    "plt.figure(figsize=(13,6))\n",
    "plt.plot(model.history.history['loss'])\n",
    "plt.plot(model.history.history['val_loss'])\n",
    "plt.title(\"Pérdidas del modelo con set de entrenamiento y pruebas por época\")\n",
    "plt.ylabel('MSE')\n",
    "plt.xlabel('Épocas')\n",
    "plt.legend(['Entrenamiento', 'Validación'], loc='upper right')\n",
    "plt.show()"
   ]
  },
  {
   "cell_type": "markdown",
   "metadata": {
    "id": "xE5rdI5bFG2J"
   },
   "source": [
    "Trata de realizar predicciones con el modelo"
   ]
  },
  {
   "cell_type": "code",
   "execution_count": 22,
   "metadata": {
    "colab": {
     "base_uri": "https://localhost:8080/",
     "height": 102
    },
    "id": "ZzoagaX5FELl",
    "outputId": "851a288a-11cd-4759-e4fa-b5ffd9a1089c"
   },
   "outputs": [
    {
     "name": "stdout",
     "output_type": "stream",
     "text": [
      "Real=18650, Prediccion=18777.834\n",
      "Real=9950, Prediccion=9451.387\n",
      "Real=2000, Prediccion=4259.1465\n",
      "Real=7999, Prediccion=6482.0913\n",
      "Real=23999, Prediccion=24245.33\n"
     ]
    }
   ],
   "source": [
    "real=pd.DataFrame(y_train)\n",
    "predic=model.predict(pd.DataFrame(x_train_scaled))\n",
    "valores_reescalados = scaler1.inverse_transform(predic)\n",
    "pred_escal =pd.DataFrame(valores_reescalados)\n",
    "# Muestra los valores reales y las predicciones\n",
    "for i in range(0,5):\n",
    "\tprint(\"Real=%s, Prediccion=%s\" % (real[0][i], pred_escal[0][i]))"
   ]
  },
  {
   "cell_type": "markdown",
   "metadata": {
    "id": "vNB6p9Kx9lFV"
   },
   "source": [
    "# Happy coding!"
   ]
  }
 ],
 "metadata": {
  "accelerator": "GPU",
  "colab": {
   "machine_shape": "hm",
   "name": "Proyecto_Precios_Vehiculos_Usados_BLANCO.ipynb",
   "provenance": []
  },
  "kernelspec": {
   "display_name": "Python 3",
   "language": "python",
   "name": "python3"
  },
  "language_info": {
   "codemirror_mode": {
    "name": "ipython",
    "version": 3
   },
   "file_extension": ".py",
   "mimetype": "text/x-python",
   "name": "python",
   "nbconvert_exporter": "python",
   "pygments_lexer": "ipython3",
   "version": "3.8.8"
  }
 },
 "nbformat": 4,
 "nbformat_minor": 1
}
